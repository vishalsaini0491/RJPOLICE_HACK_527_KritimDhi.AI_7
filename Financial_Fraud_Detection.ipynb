{
 "cells": [
  {
   "cell_type": "code",
   "execution_count": 1,
   "id": "4eb3f1b4-9b54-4634-9c74-f006843d35a1",
   "metadata": {},
   "outputs": [],
   "source": [
    "import pandas as pd\n",
    "import numpy as np\n",
    "import matplotlib.pyplot as plt\n",
    "import seaborn as sns"
   ]
  },
  {
   "cell_type": "code",
   "execution_count": 2,
   "id": "effc4fb4-23f9-429a-acbe-be4ba7502630",
   "metadata": {},
   "outputs": [],
   "source": [
    "df=pd.read_csv('./Data/Fraud.csv')"
   ]
  },
  {
   "cell_type": "code",
   "execution_count": 3,
   "id": "eafd29e3-6e61-448b-b3b3-e30da6e3b163",
   "metadata": {},
   "outputs": [],
   "source": [
    "# Starting With Data Analysis"
   ]
  },
  {
   "cell_type": "code",
   "execution_count": 4,
   "id": "88eec199-c97c-4f5e-850a-4571bc2dc2de",
   "metadata": {},
   "outputs": [
    {
     "data": {
      "text/plain": [
       "Index(['step', 'type', 'amount', 'nameOrig', 'oldbalanceOrg', 'newbalanceOrig',\n",
       "       'nameDest', 'oldbalanceDest', 'newbalanceDest', 'isFraud',\n",
       "       'isFlaggedFraud'],\n",
       "      dtype='object')"
      ]
     },
     "execution_count": 4,
     "metadata": {},
     "output_type": "execute_result"
    }
   ],
   "source": [
    "df.columns"
   ]
  },
  {
   "cell_type": "code",
   "execution_count": 5,
   "id": "f0975b2f-9c7f-4dd8-90e4-d348544b1467",
   "metadata": {},
   "outputs": [
    {
     "data": {
      "text/plain": [
       "(6362620, 11)"
      ]
     },
     "execution_count": 5,
     "metadata": {},
     "output_type": "execute_result"
    }
   ],
   "source": [
    "df.shape \n",
    "# this gives (rows, columns) present"
   ]
  },
  {
   "cell_type": "code",
   "execution_count": 6,
   "id": "11b7ab47-7fad-4401-b3f6-ac783b855a1b",
   "metadata": {},
   "outputs": [
    {
     "data": {
      "text/plain": [
       "69988820"
      ]
     },
     "execution_count": 6,
     "metadata": {},
     "output_type": "execute_result"
    }
   ],
   "source": [
    "df.size\n",
    "# Gives total no. of different data points"
   ]
  },
  {
   "cell_type": "code",
   "execution_count": 7,
   "id": "9641c829-120b-4e59-89bf-23a8953c5ec5",
   "metadata": {
    "scrolled": true
   },
   "outputs": [
    {
     "data": {
      "text/html": [
       "<div>\n",
       "<style scoped>\n",
       "    .dataframe tbody tr th:only-of-type {\n",
       "        vertical-align: middle;\n",
       "    }\n",
       "\n",
       "    .dataframe tbody tr th {\n",
       "        vertical-align: top;\n",
       "    }\n",
       "\n",
       "    .dataframe thead th {\n",
       "        text-align: right;\n",
       "    }\n",
       "</style>\n",
       "<table border=\"1\" class=\"dataframe\">\n",
       "  <thead>\n",
       "    <tr style=\"text-align: right;\">\n",
       "      <th></th>\n",
       "      <th>step</th>\n",
       "      <th>type</th>\n",
       "      <th>amount</th>\n",
       "      <th>nameOrig</th>\n",
       "      <th>oldbalanceOrg</th>\n",
       "      <th>newbalanceOrig</th>\n",
       "      <th>nameDest</th>\n",
       "      <th>oldbalanceDest</th>\n",
       "      <th>newbalanceDest</th>\n",
       "      <th>isFraud</th>\n",
       "      <th>isFlaggedFraud</th>\n",
       "    </tr>\n",
       "  </thead>\n",
       "  <tbody>\n",
       "    <tr>\n",
       "      <th>0</th>\n",
       "      <td>1</td>\n",
       "      <td>PAYMENT</td>\n",
       "      <td>9839.64</td>\n",
       "      <td>C1231006815</td>\n",
       "      <td>170136.0</td>\n",
       "      <td>160296.36</td>\n",
       "      <td>M1979787155</td>\n",
       "      <td>0.0</td>\n",
       "      <td>0.0</td>\n",
       "      <td>0</td>\n",
       "      <td>0</td>\n",
       "    </tr>\n",
       "    <tr>\n",
       "      <th>1</th>\n",
       "      <td>1</td>\n",
       "      <td>PAYMENT</td>\n",
       "      <td>1864.28</td>\n",
       "      <td>C1666544295</td>\n",
       "      <td>21249.0</td>\n",
       "      <td>19384.72</td>\n",
       "      <td>M2044282225</td>\n",
       "      <td>0.0</td>\n",
       "      <td>0.0</td>\n",
       "      <td>0</td>\n",
       "      <td>0</td>\n",
       "    </tr>\n",
       "    <tr>\n",
       "      <th>2</th>\n",
       "      <td>1</td>\n",
       "      <td>TRANSFER</td>\n",
       "      <td>181.00</td>\n",
       "      <td>C1305486145</td>\n",
       "      <td>181.0</td>\n",
       "      <td>0.00</td>\n",
       "      <td>C553264065</td>\n",
       "      <td>0.0</td>\n",
       "      <td>0.0</td>\n",
       "      <td>1</td>\n",
       "      <td>0</td>\n",
       "    </tr>\n",
       "    <tr>\n",
       "      <th>3</th>\n",
       "      <td>1</td>\n",
       "      <td>CASH_OUT</td>\n",
       "      <td>181.00</td>\n",
       "      <td>C840083671</td>\n",
       "      <td>181.0</td>\n",
       "      <td>0.00</td>\n",
       "      <td>C38997010</td>\n",
       "      <td>21182.0</td>\n",
       "      <td>0.0</td>\n",
       "      <td>1</td>\n",
       "      <td>0</td>\n",
       "    </tr>\n",
       "    <tr>\n",
       "      <th>4</th>\n",
       "      <td>1</td>\n",
       "      <td>PAYMENT</td>\n",
       "      <td>11668.14</td>\n",
       "      <td>C2048537720</td>\n",
       "      <td>41554.0</td>\n",
       "      <td>29885.86</td>\n",
       "      <td>M1230701703</td>\n",
       "      <td>0.0</td>\n",
       "      <td>0.0</td>\n",
       "      <td>0</td>\n",
       "      <td>0</td>\n",
       "    </tr>\n",
       "  </tbody>\n",
       "</table>\n",
       "</div>"
      ],
      "text/plain": [
       "   step      type    amount     nameOrig  oldbalanceOrg  newbalanceOrig  \\\n",
       "0     1   PAYMENT   9839.64  C1231006815       170136.0       160296.36   \n",
       "1     1   PAYMENT   1864.28  C1666544295        21249.0        19384.72   \n",
       "2     1  TRANSFER    181.00  C1305486145          181.0            0.00   \n",
       "3     1  CASH_OUT    181.00   C840083671          181.0            0.00   \n",
       "4     1   PAYMENT  11668.14  C2048537720        41554.0        29885.86   \n",
       "\n",
       "      nameDest  oldbalanceDest  newbalanceDest  isFraud  isFlaggedFraud  \n",
       "0  M1979787155             0.0             0.0        0               0  \n",
       "1  M2044282225             0.0             0.0        0               0  \n",
       "2   C553264065             0.0             0.0        1               0  \n",
       "3    C38997010         21182.0             0.0        1               0  \n",
       "4  M1230701703             0.0             0.0        0               0  "
      ]
     },
     "execution_count": 7,
     "metadata": {},
     "output_type": "execute_result"
    }
   ],
   "source": [
    "df.head()\n",
    "# First 5 transactions data"
   ]
  },
  {
   "cell_type": "code",
   "execution_count": 8,
   "id": "57e361c7-86c2-4f2a-803d-190806f2190d",
   "metadata": {},
   "outputs": [
    {
     "data": {
      "text/plain": [
       "step                int64\n",
       "type               object\n",
       "amount            float64\n",
       "nameOrig           object\n",
       "oldbalanceOrg     float64\n",
       "newbalanceOrig    float64\n",
       "nameDest           object\n",
       "oldbalanceDest    float64\n",
       "newbalanceDest    float64\n",
       "isFraud             int64\n",
       "isFlaggedFraud      int64\n",
       "dtype: object"
      ]
     },
     "execution_count": 8,
     "metadata": {},
     "output_type": "execute_result"
    }
   ],
   "source": [
    "# We identify data types, we perform this step so to identigy object-type features. So to convert \n",
    "# them into numerical form for preprocessing step before training machine learning models\n",
    "df.dtypes"
   ]
  },
  {
   "cell_type": "code",
   "execution_count": 9,
   "id": "0f355d7c-2c4a-4df1-b550-0d2279e7265e",
   "metadata": {},
   "outputs": [],
   "source": [
    "# formatting float-point numbers 'x' to diplay up to four decimal places\n",
    "pd.set_option('display.float_format', lambda x: '%0.4f' %x)"
   ]
  },
  {
   "cell_type": "code",
   "execution_count": 10,
   "id": "0e8e4fa8-2f53-4b96-95d3-18e1944ca553",
   "metadata": {},
   "outputs": [
    {
     "data": {
      "text/html": [
       "<div>\n",
       "<style scoped>\n",
       "    .dataframe tbody tr th:only-of-type {\n",
       "        vertical-align: middle;\n",
       "    }\n",
       "\n",
       "    .dataframe tbody tr th {\n",
       "        vertical-align: top;\n",
       "    }\n",
       "\n",
       "    .dataframe thead th {\n",
       "        text-align: right;\n",
       "    }\n",
       "</style>\n",
       "<table border=\"1\" class=\"dataframe\">\n",
       "  <thead>\n",
       "    <tr style=\"text-align: right;\">\n",
       "      <th></th>\n",
       "      <th>count</th>\n",
       "      <th>mean</th>\n",
       "      <th>std</th>\n",
       "      <th>min</th>\n",
       "      <th>25%</th>\n",
       "      <th>50%</th>\n",
       "      <th>75%</th>\n",
       "      <th>max</th>\n",
       "    </tr>\n",
       "  </thead>\n",
       "  <tbody>\n",
       "    <tr>\n",
       "      <th>step</th>\n",
       "      <td>6362620.0000</td>\n",
       "      <td>243.4000</td>\n",
       "      <td>142.3300</td>\n",
       "      <td>1.0000</td>\n",
       "      <td>156.0000</td>\n",
       "      <td>239.0000</td>\n",
       "      <td>335.0000</td>\n",
       "      <td>743.0000</td>\n",
       "    </tr>\n",
       "    <tr>\n",
       "      <th>amount</th>\n",
       "      <td>6362620.0000</td>\n",
       "      <td>179861.9000</td>\n",
       "      <td>603858.2300</td>\n",
       "      <td>0.0000</td>\n",
       "      <td>13389.5700</td>\n",
       "      <td>74871.9400</td>\n",
       "      <td>208721.4800</td>\n",
       "      <td>92445516.6400</td>\n",
       "    </tr>\n",
       "    <tr>\n",
       "      <th>oldbalanceOrg</th>\n",
       "      <td>6362620.0000</td>\n",
       "      <td>833883.1000</td>\n",
       "      <td>2888242.6700</td>\n",
       "      <td>0.0000</td>\n",
       "      <td>0.0000</td>\n",
       "      <td>14208.0000</td>\n",
       "      <td>107315.1800</td>\n",
       "      <td>59585040.3700</td>\n",
       "    </tr>\n",
       "    <tr>\n",
       "      <th>newbalanceOrig</th>\n",
       "      <td>6362620.0000</td>\n",
       "      <td>855113.6700</td>\n",
       "      <td>2924048.5000</td>\n",
       "      <td>0.0000</td>\n",
       "      <td>0.0000</td>\n",
       "      <td>0.0000</td>\n",
       "      <td>144258.4100</td>\n",
       "      <td>49585040.3700</td>\n",
       "    </tr>\n",
       "    <tr>\n",
       "      <th>oldbalanceDest</th>\n",
       "      <td>6362620.0000</td>\n",
       "      <td>1100701.6700</td>\n",
       "      <td>3399180.1100</td>\n",
       "      <td>0.0000</td>\n",
       "      <td>0.0000</td>\n",
       "      <td>132705.6600</td>\n",
       "      <td>943036.7100</td>\n",
       "      <td>356015889.3500</td>\n",
       "    </tr>\n",
       "    <tr>\n",
       "      <th>newbalanceDest</th>\n",
       "      <td>6362620.0000</td>\n",
       "      <td>1224996.4000</td>\n",
       "      <td>3674128.9400</td>\n",
       "      <td>0.0000</td>\n",
       "      <td>0.0000</td>\n",
       "      <td>214661.4400</td>\n",
       "      <td>1111909.2500</td>\n",
       "      <td>356179278.9200</td>\n",
       "    </tr>\n",
       "  </tbody>\n",
       "</table>\n",
       "</div>"
      ],
      "text/plain": [
       "                      count         mean          std    min        25%  \\\n",
       "step           6362620.0000     243.4000     142.3300 1.0000   156.0000   \n",
       "amount         6362620.0000  179861.9000  603858.2300 0.0000 13389.5700   \n",
       "oldbalanceOrg  6362620.0000  833883.1000 2888242.6700 0.0000     0.0000   \n",
       "newbalanceOrig 6362620.0000  855113.6700 2924048.5000 0.0000     0.0000   \n",
       "oldbalanceDest 6362620.0000 1100701.6700 3399180.1100 0.0000     0.0000   \n",
       "newbalanceDest 6362620.0000 1224996.4000 3674128.9400 0.0000     0.0000   \n",
       "\n",
       "                       50%          75%            max  \n",
       "step              239.0000     335.0000       743.0000  \n",
       "amount          74871.9400  208721.4800  92445516.6400  \n",
       "oldbalanceOrg   14208.0000  107315.1800  59585040.3700  \n",
       "newbalanceOrig      0.0000  144258.4100  49585040.3700  \n",
       "oldbalanceDest 132705.6600  943036.7100 356015889.3500  \n",
       "newbalanceDest 214661.4400 1111909.2500 356179278.9200  "
      ]
     },
     "execution_count": 10,
     "metadata": {},
     "output_type": "execute_result"
    }
   ],
   "source": [
    "round(df[['step', 'amount', 'oldbalanceOrg', 'newbalanceOrig','oldbalanceDest',\n",
    "                'newbalanceDest',]].describe() .T ,2)"
   ]
  },
  {
   "cell_type": "code",
   "execution_count": 11,
   "id": "5278575c-8e2c-4b24-a7b5-3252c57bef5c",
   "metadata": {},
   "outputs": [
    {
     "data": {
      "text/html": [
       "<div>\n",
       "<style scoped>\n",
       "    .dataframe tbody tr th:only-of-type {\n",
       "        vertical-align: middle;\n",
       "    }\n",
       "\n",
       "    .dataframe tbody tr th {\n",
       "        vertical-align: top;\n",
       "    }\n",
       "\n",
       "    .dataframe thead th {\n",
       "        text-align: right;\n",
       "    }\n",
       "</style>\n",
       "<table border=\"1\" class=\"dataframe\">\n",
       "  <thead>\n",
       "    <tr style=\"text-align: right;\">\n",
       "      <th></th>\n",
       "      <th>step</th>\n",
       "      <th>amount</th>\n",
       "      <th>oldbalanceOrg</th>\n",
       "      <th>newbalanceOrig</th>\n",
       "      <th>oldbalanceDest</th>\n",
       "      <th>newbalanceDest</th>\n",
       "      <th>isFraud</th>\n",
       "      <th>isFlaggedFraud</th>\n",
       "    </tr>\n",
       "  </thead>\n",
       "  <tbody>\n",
       "    <tr>\n",
       "      <th>step</th>\n",
       "      <td>1.0000</td>\n",
       "      <td>0.0224</td>\n",
       "      <td>-0.0101</td>\n",
       "      <td>-0.0103</td>\n",
       "      <td>0.0277</td>\n",
       "      <td>0.0259</td>\n",
       "      <td>0.0316</td>\n",
       "      <td>0.0033</td>\n",
       "    </tr>\n",
       "    <tr>\n",
       "      <th>amount</th>\n",
       "      <td>0.0224</td>\n",
       "      <td>1.0000</td>\n",
       "      <td>-0.0028</td>\n",
       "      <td>-0.0079</td>\n",
       "      <td>0.2941</td>\n",
       "      <td>0.4593</td>\n",
       "      <td>0.0767</td>\n",
       "      <td>0.0123</td>\n",
       "    </tr>\n",
       "    <tr>\n",
       "      <th>oldbalanceOrg</th>\n",
       "      <td>-0.0101</td>\n",
       "      <td>-0.0028</td>\n",
       "      <td>1.0000</td>\n",
       "      <td>0.9988</td>\n",
       "      <td>0.0662</td>\n",
       "      <td>0.0420</td>\n",
       "      <td>0.0102</td>\n",
       "      <td>0.0038</td>\n",
       "    </tr>\n",
       "    <tr>\n",
       "      <th>newbalanceOrig</th>\n",
       "      <td>-0.0103</td>\n",
       "      <td>-0.0079</td>\n",
       "      <td>0.9988</td>\n",
       "      <td>1.0000</td>\n",
       "      <td>0.0678</td>\n",
       "      <td>0.0418</td>\n",
       "      <td>-0.0081</td>\n",
       "      <td>0.0038</td>\n",
       "    </tr>\n",
       "    <tr>\n",
       "      <th>oldbalanceDest</th>\n",
       "      <td>0.0277</td>\n",
       "      <td>0.2941</td>\n",
       "      <td>0.0662</td>\n",
       "      <td>0.0678</td>\n",
       "      <td>1.0000</td>\n",
       "      <td>0.9766</td>\n",
       "      <td>-0.0059</td>\n",
       "      <td>-0.0005</td>\n",
       "    </tr>\n",
       "    <tr>\n",
       "      <th>newbalanceDest</th>\n",
       "      <td>0.0259</td>\n",
       "      <td>0.4593</td>\n",
       "      <td>0.0420</td>\n",
       "      <td>0.0418</td>\n",
       "      <td>0.9766</td>\n",
       "      <td>1.0000</td>\n",
       "      <td>0.0005</td>\n",
       "      <td>-0.0005</td>\n",
       "    </tr>\n",
       "    <tr>\n",
       "      <th>isFraud</th>\n",
       "      <td>0.0316</td>\n",
       "      <td>0.0767</td>\n",
       "      <td>0.0102</td>\n",
       "      <td>-0.0081</td>\n",
       "      <td>-0.0059</td>\n",
       "      <td>0.0005</td>\n",
       "      <td>1.0000</td>\n",
       "      <td>0.0441</td>\n",
       "    </tr>\n",
       "    <tr>\n",
       "      <th>isFlaggedFraud</th>\n",
       "      <td>0.0033</td>\n",
       "      <td>0.0123</td>\n",
       "      <td>0.0038</td>\n",
       "      <td>0.0038</td>\n",
       "      <td>-0.0005</td>\n",
       "      <td>-0.0005</td>\n",
       "      <td>0.0441</td>\n",
       "      <td>1.0000</td>\n",
       "    </tr>\n",
       "  </tbody>\n",
       "</table>\n",
       "</div>"
      ],
      "text/plain": [
       "                  step  amount  oldbalanceOrg  newbalanceOrig  oldbalanceDest  \\\n",
       "step            1.0000  0.0224        -0.0101         -0.0103          0.0277   \n",
       "amount          0.0224  1.0000        -0.0028         -0.0079          0.2941   \n",
       "oldbalanceOrg  -0.0101 -0.0028         1.0000          0.9988          0.0662   \n",
       "newbalanceOrig -0.0103 -0.0079         0.9988          1.0000          0.0678   \n",
       "oldbalanceDest  0.0277  0.2941         0.0662          0.0678          1.0000   \n",
       "newbalanceDest  0.0259  0.4593         0.0420          0.0418          0.9766   \n",
       "isFraud         0.0316  0.0767         0.0102         -0.0081         -0.0059   \n",
       "isFlaggedFraud  0.0033  0.0123         0.0038          0.0038         -0.0005   \n",
       "\n",
       "                newbalanceDest  isFraud  isFlaggedFraud  \n",
       "step                    0.0259   0.0316          0.0033  \n",
       "amount                  0.4593   0.0767          0.0123  \n",
       "oldbalanceOrg           0.0420   0.0102          0.0038  \n",
       "newbalanceOrig          0.0418  -0.0081          0.0038  \n",
       "oldbalanceDest          0.9766  -0.0059         -0.0005  \n",
       "newbalanceDest          1.0000   0.0005         -0.0005  \n",
       "isFraud                 0.0005   1.0000          0.0441  \n",
       "isFlaggedFraud         -0.0005   0.0441          1.0000  "
      ]
     },
     "execution_count": 11,
     "metadata": {},
     "output_type": "execute_result"
    }
   ],
   "source": [
    "# Understanding relationship b/w input features and target features to select the important\n",
    "# features for training machine learning model\n",
    "\n",
    "df[['step', 'amount', 'oldbalanceOrg', 'newbalanceOrig','oldbalanceDest',\n",
    "                'newbalanceDest','isFraud', 'isFlaggedFraud']].corr()"
   ]
  },
  {
   "cell_type": "code",
   "execution_count": 12,
   "id": "8a847484-348c-446f-a904-9ce6b8b0e5fb",
   "metadata": {},
   "outputs": [],
   "source": [
    "# What we observed in above correlation matrix, is that ('oldbalanceDest', 'newbalanceDest') and \n",
    "# ('oldbalanceOrg', 'newbalanceOrg') indicates a high correlation (near to 1) or linear dependency between\n",
    "# these pairs of features. And this could lead to issues in regression model.\n",
    "\n",
    "# So, to fix this we need to remove one of the highly correated variables from each pair. "
   ]
  },
  {
   "cell_type": "code",
   "execution_count": 13,
   "id": "d2c4df1b-ac39-4385-bd81-09b1ab64ca9a",
   "metadata": {},
   "outputs": [
    {
     "data": {
      "text/html": [
       "<div>\n",
       "<style scoped>\n",
       "    .dataframe tbody tr th:only-of-type {\n",
       "        vertical-align: middle;\n",
       "    }\n",
       "\n",
       "    .dataframe tbody tr th {\n",
       "        vertical-align: top;\n",
       "    }\n",
       "\n",
       "    .dataframe thead th {\n",
       "        text-align: right;\n",
       "    }\n",
       "</style>\n",
       "<table border=\"1\" class=\"dataframe\">\n",
       "  <thead>\n",
       "    <tr style=\"text-align: right;\">\n",
       "      <th></th>\n",
       "      <th>step</th>\n",
       "      <th>type</th>\n",
       "      <th>amount</th>\n",
       "      <th>nameOrig</th>\n",
       "      <th>oldbalanceOrg</th>\n",
       "      <th>newbalanceOrig</th>\n",
       "      <th>nameDest</th>\n",
       "      <th>oldbalanceDest</th>\n",
       "      <th>newbalanceDest</th>\n",
       "      <th>isFraud</th>\n",
       "      <th>isFlaggedFraud</th>\n",
       "    </tr>\n",
       "  </thead>\n",
       "  <tbody>\n",
       "    <tr>\n",
       "      <th>2736447</th>\n",
       "      <td>212</td>\n",
       "      <td>CASH_OUT</td>\n",
       "      <td>0.0000</td>\n",
       "      <td>C1510987794</td>\n",
       "      <td>0.0000</td>\n",
       "      <td>0.0000</td>\n",
       "      <td>C1696624817</td>\n",
       "      <td>0.0000</td>\n",
       "      <td>0.0000</td>\n",
       "      <td>1</td>\n",
       "      <td>0</td>\n",
       "    </tr>\n",
       "    <tr>\n",
       "      <th>3247298</th>\n",
       "      <td>250</td>\n",
       "      <td>CASH_OUT</td>\n",
       "      <td>0.0000</td>\n",
       "      <td>C521393327</td>\n",
       "      <td>0.0000</td>\n",
       "      <td>0.0000</td>\n",
       "      <td>C480398193</td>\n",
       "      <td>0.0000</td>\n",
       "      <td>0.0000</td>\n",
       "      <td>1</td>\n",
       "      <td>0</td>\n",
       "    </tr>\n",
       "    <tr>\n",
       "      <th>3760289</th>\n",
       "      <td>279</td>\n",
       "      <td>CASH_OUT</td>\n",
       "      <td>0.0000</td>\n",
       "      <td>C539112012</td>\n",
       "      <td>0.0000</td>\n",
       "      <td>0.0000</td>\n",
       "      <td>C1106468520</td>\n",
       "      <td>538547.6300</td>\n",
       "      <td>538547.6300</td>\n",
       "      <td>1</td>\n",
       "      <td>0</td>\n",
       "    </tr>\n",
       "    <tr>\n",
       "      <th>5563714</th>\n",
       "      <td>387</td>\n",
       "      <td>CASH_OUT</td>\n",
       "      <td>0.0000</td>\n",
       "      <td>C1294472700</td>\n",
       "      <td>0.0000</td>\n",
       "      <td>0.0000</td>\n",
       "      <td>C1325541393</td>\n",
       "      <td>7970766.5700</td>\n",
       "      <td>7970766.5700</td>\n",
       "      <td>1</td>\n",
       "      <td>0</td>\n",
       "    </tr>\n",
       "    <tr>\n",
       "      <th>5996408</th>\n",
       "      <td>425</td>\n",
       "      <td>CASH_OUT</td>\n",
       "      <td>0.0000</td>\n",
       "      <td>C832555372</td>\n",
       "      <td>0.0000</td>\n",
       "      <td>0.0000</td>\n",
       "      <td>C1462759334</td>\n",
       "      <td>76759.9000</td>\n",
       "      <td>76759.9000</td>\n",
       "      <td>1</td>\n",
       "      <td>0</td>\n",
       "    </tr>\n",
       "    <tr>\n",
       "      <th>5996410</th>\n",
       "      <td>425</td>\n",
       "      <td>CASH_OUT</td>\n",
       "      <td>0.0000</td>\n",
       "      <td>C69493310</td>\n",
       "      <td>0.0000</td>\n",
       "      <td>0.0000</td>\n",
       "      <td>C719711728</td>\n",
       "      <td>2921531.3400</td>\n",
       "      <td>2921531.3400</td>\n",
       "      <td>1</td>\n",
       "      <td>0</td>\n",
       "    </tr>\n",
       "    <tr>\n",
       "      <th>6168500</th>\n",
       "      <td>554</td>\n",
       "      <td>CASH_OUT</td>\n",
       "      <td>0.0000</td>\n",
       "      <td>C10965156</td>\n",
       "      <td>0.0000</td>\n",
       "      <td>0.0000</td>\n",
       "      <td>C1493336195</td>\n",
       "      <td>230289.6600</td>\n",
       "      <td>230289.6600</td>\n",
       "      <td>1</td>\n",
       "      <td>0</td>\n",
       "    </tr>\n",
       "    <tr>\n",
       "      <th>6205440</th>\n",
       "      <td>586</td>\n",
       "      <td>CASH_OUT</td>\n",
       "      <td>0.0000</td>\n",
       "      <td>C1303719003</td>\n",
       "      <td>0.0000</td>\n",
       "      <td>0.0000</td>\n",
       "      <td>C900608348</td>\n",
       "      <td>1328472.8600</td>\n",
       "      <td>1328472.8600</td>\n",
       "      <td>1</td>\n",
       "      <td>0</td>\n",
       "    </tr>\n",
       "    <tr>\n",
       "      <th>6266414</th>\n",
       "      <td>617</td>\n",
       "      <td>CASH_OUT</td>\n",
       "      <td>0.0000</td>\n",
       "      <td>C1971175979</td>\n",
       "      <td>0.0000</td>\n",
       "      <td>0.0000</td>\n",
       "      <td>C1352345416</td>\n",
       "      <td>0.0000</td>\n",
       "      <td>0.0000</td>\n",
       "      <td>1</td>\n",
       "      <td>0</td>\n",
       "    </tr>\n",
       "    <tr>\n",
       "      <th>6281483</th>\n",
       "      <td>646</td>\n",
       "      <td>CASH_OUT</td>\n",
       "      <td>0.0000</td>\n",
       "      <td>C2060908932</td>\n",
       "      <td>0.0000</td>\n",
       "      <td>0.0000</td>\n",
       "      <td>C1587892888</td>\n",
       "      <td>0.0000</td>\n",
       "      <td>0.0000</td>\n",
       "      <td>1</td>\n",
       "      <td>0</td>\n",
       "    </tr>\n",
       "    <tr>\n",
       "      <th>6281485</th>\n",
       "      <td>646</td>\n",
       "      <td>CASH_OUT</td>\n",
       "      <td>0.0000</td>\n",
       "      <td>C1997645312</td>\n",
       "      <td>0.0000</td>\n",
       "      <td>0.0000</td>\n",
       "      <td>C601248796</td>\n",
       "      <td>0.0000</td>\n",
       "      <td>0.0000</td>\n",
       "      <td>1</td>\n",
       "      <td>0</td>\n",
       "    </tr>\n",
       "    <tr>\n",
       "      <th>6296015</th>\n",
       "      <td>671</td>\n",
       "      <td>CASH_OUT</td>\n",
       "      <td>0.0000</td>\n",
       "      <td>C1960007029</td>\n",
       "      <td>0.0000</td>\n",
       "      <td>0.0000</td>\n",
       "      <td>C459118517</td>\n",
       "      <td>27938.7200</td>\n",
       "      <td>27938.7200</td>\n",
       "      <td>1</td>\n",
       "      <td>0</td>\n",
       "    </tr>\n",
       "    <tr>\n",
       "      <th>6351226</th>\n",
       "      <td>702</td>\n",
       "      <td>CASH_OUT</td>\n",
       "      <td>0.0000</td>\n",
       "      <td>C1461113533</td>\n",
       "      <td>0.0000</td>\n",
       "      <td>0.0000</td>\n",
       "      <td>C1382150537</td>\n",
       "      <td>107777.0200</td>\n",
       "      <td>107777.0200</td>\n",
       "      <td>1</td>\n",
       "      <td>0</td>\n",
       "    </tr>\n",
       "    <tr>\n",
       "      <th>6362461</th>\n",
       "      <td>730</td>\n",
       "      <td>CASH_OUT</td>\n",
       "      <td>0.0000</td>\n",
       "      <td>C729003789</td>\n",
       "      <td>0.0000</td>\n",
       "      <td>0.0000</td>\n",
       "      <td>C1388096959</td>\n",
       "      <td>1008609.5300</td>\n",
       "      <td>1008609.5300</td>\n",
       "      <td>1</td>\n",
       "      <td>0</td>\n",
       "    </tr>\n",
       "    <tr>\n",
       "      <th>6362463</th>\n",
       "      <td>730</td>\n",
       "      <td>CASH_OUT</td>\n",
       "      <td>0.0000</td>\n",
       "      <td>C2088151490</td>\n",
       "      <td>0.0000</td>\n",
       "      <td>0.0000</td>\n",
       "      <td>C1156763710</td>\n",
       "      <td>0.0000</td>\n",
       "      <td>0.0000</td>\n",
       "      <td>1</td>\n",
       "      <td>0</td>\n",
       "    </tr>\n",
       "    <tr>\n",
       "      <th>6362585</th>\n",
       "      <td>741</td>\n",
       "      <td>CASH_OUT</td>\n",
       "      <td>0.0000</td>\n",
       "      <td>C312737633</td>\n",
       "      <td>0.0000</td>\n",
       "      <td>0.0000</td>\n",
       "      <td>C1400061387</td>\n",
       "      <td>267522.8700</td>\n",
       "      <td>267522.8700</td>\n",
       "      <td>1</td>\n",
       "      <td>0</td>\n",
       "    </tr>\n",
       "  </tbody>\n",
       "</table>\n",
       "</div>"
      ],
      "text/plain": [
       "         step      type  amount     nameOrig  oldbalanceOrg  newbalanceOrig  \\\n",
       "2736447   212  CASH_OUT  0.0000  C1510987794         0.0000          0.0000   \n",
       "3247298   250  CASH_OUT  0.0000   C521393327         0.0000          0.0000   \n",
       "3760289   279  CASH_OUT  0.0000   C539112012         0.0000          0.0000   \n",
       "5563714   387  CASH_OUT  0.0000  C1294472700         0.0000          0.0000   \n",
       "5996408   425  CASH_OUT  0.0000   C832555372         0.0000          0.0000   \n",
       "5996410   425  CASH_OUT  0.0000    C69493310         0.0000          0.0000   \n",
       "6168500   554  CASH_OUT  0.0000    C10965156         0.0000          0.0000   \n",
       "6205440   586  CASH_OUT  0.0000  C1303719003         0.0000          0.0000   \n",
       "6266414   617  CASH_OUT  0.0000  C1971175979         0.0000          0.0000   \n",
       "6281483   646  CASH_OUT  0.0000  C2060908932         0.0000          0.0000   \n",
       "6281485   646  CASH_OUT  0.0000  C1997645312         0.0000          0.0000   \n",
       "6296015   671  CASH_OUT  0.0000  C1960007029         0.0000          0.0000   \n",
       "6351226   702  CASH_OUT  0.0000  C1461113533         0.0000          0.0000   \n",
       "6362461   730  CASH_OUT  0.0000   C729003789         0.0000          0.0000   \n",
       "6362463   730  CASH_OUT  0.0000  C2088151490         0.0000          0.0000   \n",
       "6362585   741  CASH_OUT  0.0000   C312737633         0.0000          0.0000   \n",
       "\n",
       "            nameDest  oldbalanceDest  newbalanceDest  isFraud  isFlaggedFraud  \n",
       "2736447  C1696624817          0.0000          0.0000        1               0  \n",
       "3247298   C480398193          0.0000          0.0000        1               0  \n",
       "3760289  C1106468520     538547.6300     538547.6300        1               0  \n",
       "5563714  C1325541393    7970766.5700    7970766.5700        1               0  \n",
       "5996408  C1462759334      76759.9000      76759.9000        1               0  \n",
       "5996410   C719711728    2921531.3400    2921531.3400        1               0  \n",
       "6168500  C1493336195     230289.6600     230289.6600        1               0  \n",
       "6205440   C900608348    1328472.8600    1328472.8600        1               0  \n",
       "6266414  C1352345416          0.0000          0.0000        1               0  \n",
       "6281483  C1587892888          0.0000          0.0000        1               0  \n",
       "6281485   C601248796          0.0000          0.0000        1               0  \n",
       "6296015   C459118517      27938.7200      27938.7200        1               0  \n",
       "6351226  C1382150537     107777.0200     107777.0200        1               0  \n",
       "6362461  C1388096959    1008609.5300    1008609.5300        1               0  \n",
       "6362463  C1156763710          0.0000          0.0000        1               0  \n",
       "6362585  C1400061387     267522.8700     267522.8700        1               0  "
      ]
     },
     "execution_count": 13,
     "metadata": {},
     "output_type": "execute_result"
    }
   ],
   "source": [
    "df[df['amount']==0]"
   ]
  },
  {
   "cell_type": "code",
   "execution_count": 14,
   "id": "bfb6b6a4-7fa5-4da2-b344-0fb4e4c13bb4",
   "metadata": {},
   "outputs": [],
   "source": [
    "# Observation: Transactions which have 'amount'=0 are probably fraud transactions. We can also understand this thing as,\n",
    "# if someone having 0 balance in their account, then their is no sense to transfer money. That is, probably some\n",
    "# fraudster is targeting random accounts, and may be they are not aware about account balance."
   ]
  },
  {
   "cell_type": "code",
   "execution_count": 15,
   "id": "49cf5d9b-2efd-4e1f-ae6e-e2a40edd9c24",
   "metadata": {},
   "outputs": [
    {
     "data": {
      "text/html": [
       "<div>\n",
       "<style scoped>\n",
       "    .dataframe tbody tr th:only-of-type {\n",
       "        vertical-align: middle;\n",
       "    }\n",
       "\n",
       "    .dataframe tbody tr th {\n",
       "        vertical-align: top;\n",
       "    }\n",
       "\n",
       "    .dataframe thead th {\n",
       "        text-align: right;\n",
       "    }\n",
       "</style>\n",
       "<table border=\"1\" class=\"dataframe\">\n",
       "  <thead>\n",
       "    <tr style=\"text-align: right;\">\n",
       "      <th></th>\n",
       "      <th>step</th>\n",
       "      <th>type</th>\n",
       "      <th>amount</th>\n",
       "      <th>nameOrig</th>\n",
       "      <th>oldbalanceOrg</th>\n",
       "      <th>newbalanceOrig</th>\n",
       "      <th>nameDest</th>\n",
       "      <th>oldbalanceDest</th>\n",
       "      <th>newbalanceDest</th>\n",
       "      <th>isFraud</th>\n",
       "      <th>isFlaggedFraud</th>\n",
       "    </tr>\n",
       "  </thead>\n",
       "  <tbody>\n",
       "    <tr>\n",
       "      <th>2736446</th>\n",
       "      <td>212</td>\n",
       "      <td>TRANSFER</td>\n",
       "      <td>4953893.0800</td>\n",
       "      <td>C728984460</td>\n",
       "      <td>4953893.0800</td>\n",
       "      <td>4953893.0800</td>\n",
       "      <td>C639921569</td>\n",
       "      <td>0.0000</td>\n",
       "      <td>0.0000</td>\n",
       "      <td>1</td>\n",
       "      <td>1</td>\n",
       "    </tr>\n",
       "    <tr>\n",
       "      <th>3247297</th>\n",
       "      <td>250</td>\n",
       "      <td>TRANSFER</td>\n",
       "      <td>1343002.0800</td>\n",
       "      <td>C1100582606</td>\n",
       "      <td>1343002.0800</td>\n",
       "      <td>1343002.0800</td>\n",
       "      <td>C1147517658</td>\n",
       "      <td>0.0000</td>\n",
       "      <td>0.0000</td>\n",
       "      <td>1</td>\n",
       "      <td>1</td>\n",
       "    </tr>\n",
       "    <tr>\n",
       "      <th>3760288</th>\n",
       "      <td>279</td>\n",
       "      <td>TRANSFER</td>\n",
       "      <td>536624.4100</td>\n",
       "      <td>C1035541766</td>\n",
       "      <td>536624.4100</td>\n",
       "      <td>536624.4100</td>\n",
       "      <td>C1100697970</td>\n",
       "      <td>0.0000</td>\n",
       "      <td>0.0000</td>\n",
       "      <td>1</td>\n",
       "      <td>1</td>\n",
       "    </tr>\n",
       "    <tr>\n",
       "      <th>5563713</th>\n",
       "      <td>387</td>\n",
       "      <td>TRANSFER</td>\n",
       "      <td>4892193.0900</td>\n",
       "      <td>C908544136</td>\n",
       "      <td>4892193.0900</td>\n",
       "      <td>4892193.0900</td>\n",
       "      <td>C891140444</td>\n",
       "      <td>0.0000</td>\n",
       "      <td>0.0000</td>\n",
       "      <td>1</td>\n",
       "      <td>1</td>\n",
       "    </tr>\n",
       "    <tr>\n",
       "      <th>5996407</th>\n",
       "      <td>425</td>\n",
       "      <td>TRANSFER</td>\n",
       "      <td>10000000.0000</td>\n",
       "      <td>C689608084</td>\n",
       "      <td>19585040.3700</td>\n",
       "      <td>19585040.3700</td>\n",
       "      <td>C1392803603</td>\n",
       "      <td>0.0000</td>\n",
       "      <td>0.0000</td>\n",
       "      <td>1</td>\n",
       "      <td>1</td>\n",
       "    </tr>\n",
       "    <tr>\n",
       "      <th>5996409</th>\n",
       "      <td>425</td>\n",
       "      <td>TRANSFER</td>\n",
       "      <td>9585040.3700</td>\n",
       "      <td>C452586515</td>\n",
       "      <td>19585040.3700</td>\n",
       "      <td>19585040.3700</td>\n",
       "      <td>C1109166882</td>\n",
       "      <td>0.0000</td>\n",
       "      <td>0.0000</td>\n",
       "      <td>1</td>\n",
       "      <td>1</td>\n",
       "    </tr>\n",
       "    <tr>\n",
       "      <th>6168499</th>\n",
       "      <td>554</td>\n",
       "      <td>TRANSFER</td>\n",
       "      <td>3576297.1000</td>\n",
       "      <td>C193696150</td>\n",
       "      <td>3576297.1000</td>\n",
       "      <td>3576297.1000</td>\n",
       "      <td>C484597480</td>\n",
       "      <td>0.0000</td>\n",
       "      <td>0.0000</td>\n",
       "      <td>1</td>\n",
       "      <td>1</td>\n",
       "    </tr>\n",
       "    <tr>\n",
       "      <th>6205439</th>\n",
       "      <td>586</td>\n",
       "      <td>TRANSFER</td>\n",
       "      <td>353874.2200</td>\n",
       "      <td>C1684585475</td>\n",
       "      <td>353874.2200</td>\n",
       "      <td>353874.2200</td>\n",
       "      <td>C1770418982</td>\n",
       "      <td>0.0000</td>\n",
       "      <td>0.0000</td>\n",
       "      <td>1</td>\n",
       "      <td>1</td>\n",
       "    </tr>\n",
       "    <tr>\n",
       "      <th>6266413</th>\n",
       "      <td>617</td>\n",
       "      <td>TRANSFER</td>\n",
       "      <td>2542664.2700</td>\n",
       "      <td>C786455622</td>\n",
       "      <td>2542664.2700</td>\n",
       "      <td>2542664.2700</td>\n",
       "      <td>C661958277</td>\n",
       "      <td>0.0000</td>\n",
       "      <td>0.0000</td>\n",
       "      <td>1</td>\n",
       "      <td>1</td>\n",
       "    </tr>\n",
       "    <tr>\n",
       "      <th>6281482</th>\n",
       "      <td>646</td>\n",
       "      <td>TRANSFER</td>\n",
       "      <td>10000000.0000</td>\n",
       "      <td>C19004745</td>\n",
       "      <td>10399045.0800</td>\n",
       "      <td>10399045.0800</td>\n",
       "      <td>C1806199534</td>\n",
       "      <td>0.0000</td>\n",
       "      <td>0.0000</td>\n",
       "      <td>1</td>\n",
       "      <td>1</td>\n",
       "    </tr>\n",
       "    <tr>\n",
       "      <th>6281484</th>\n",
       "      <td>646</td>\n",
       "      <td>TRANSFER</td>\n",
       "      <td>399045.0800</td>\n",
       "      <td>C724693370</td>\n",
       "      <td>10399045.0800</td>\n",
       "      <td>10399045.0800</td>\n",
       "      <td>C1909486199</td>\n",
       "      <td>0.0000</td>\n",
       "      <td>0.0000</td>\n",
       "      <td>1</td>\n",
       "      <td>1</td>\n",
       "    </tr>\n",
       "    <tr>\n",
       "      <th>6296014</th>\n",
       "      <td>671</td>\n",
       "      <td>TRANSFER</td>\n",
       "      <td>3441041.4600</td>\n",
       "      <td>C917414431</td>\n",
       "      <td>3441041.4600</td>\n",
       "      <td>3441041.4600</td>\n",
       "      <td>C1082139865</td>\n",
       "      <td>0.0000</td>\n",
       "      <td>0.0000</td>\n",
       "      <td>1</td>\n",
       "      <td>1</td>\n",
       "    </tr>\n",
       "    <tr>\n",
       "      <th>6351225</th>\n",
       "      <td>702</td>\n",
       "      <td>TRANSFER</td>\n",
       "      <td>3171085.5900</td>\n",
       "      <td>C1892216157</td>\n",
       "      <td>3171085.5900</td>\n",
       "      <td>3171085.5900</td>\n",
       "      <td>C1308068787</td>\n",
       "      <td>0.0000</td>\n",
       "      <td>0.0000</td>\n",
       "      <td>1</td>\n",
       "      <td>1</td>\n",
       "    </tr>\n",
       "    <tr>\n",
       "      <th>6362460</th>\n",
       "      <td>730</td>\n",
       "      <td>TRANSFER</td>\n",
       "      <td>10000000.0000</td>\n",
       "      <td>C2140038573</td>\n",
       "      <td>17316255.0500</td>\n",
       "      <td>17316255.0500</td>\n",
       "      <td>C1395467927</td>\n",
       "      <td>0.0000</td>\n",
       "      <td>0.0000</td>\n",
       "      <td>1</td>\n",
       "      <td>1</td>\n",
       "    </tr>\n",
       "    <tr>\n",
       "      <th>6362462</th>\n",
       "      <td>730</td>\n",
       "      <td>TRANSFER</td>\n",
       "      <td>7316255.0500</td>\n",
       "      <td>C1869569059</td>\n",
       "      <td>17316255.0500</td>\n",
       "      <td>17316255.0500</td>\n",
       "      <td>C1861208726</td>\n",
       "      <td>0.0000</td>\n",
       "      <td>0.0000</td>\n",
       "      <td>1</td>\n",
       "      <td>1</td>\n",
       "    </tr>\n",
       "    <tr>\n",
       "      <th>6362584</th>\n",
       "      <td>741</td>\n",
       "      <td>TRANSFER</td>\n",
       "      <td>5674547.8900</td>\n",
       "      <td>C992223106</td>\n",
       "      <td>5674547.8900</td>\n",
       "      <td>5674547.8900</td>\n",
       "      <td>C1366804249</td>\n",
       "      <td>0.0000</td>\n",
       "      <td>0.0000</td>\n",
       "      <td>1</td>\n",
       "      <td>1</td>\n",
       "    </tr>\n",
       "  </tbody>\n",
       "</table>\n",
       "</div>"
      ],
      "text/plain": [
       "         step      type        amount     nameOrig  oldbalanceOrg  \\\n",
       "2736446   212  TRANSFER  4953893.0800   C728984460   4953893.0800   \n",
       "3247297   250  TRANSFER  1343002.0800  C1100582606   1343002.0800   \n",
       "3760288   279  TRANSFER   536624.4100  C1035541766    536624.4100   \n",
       "5563713   387  TRANSFER  4892193.0900   C908544136   4892193.0900   \n",
       "5996407   425  TRANSFER 10000000.0000   C689608084  19585040.3700   \n",
       "5996409   425  TRANSFER  9585040.3700   C452586515  19585040.3700   \n",
       "6168499   554  TRANSFER  3576297.1000   C193696150   3576297.1000   \n",
       "6205439   586  TRANSFER   353874.2200  C1684585475    353874.2200   \n",
       "6266413   617  TRANSFER  2542664.2700   C786455622   2542664.2700   \n",
       "6281482   646  TRANSFER 10000000.0000    C19004745  10399045.0800   \n",
       "6281484   646  TRANSFER   399045.0800   C724693370  10399045.0800   \n",
       "6296014   671  TRANSFER  3441041.4600   C917414431   3441041.4600   \n",
       "6351225   702  TRANSFER  3171085.5900  C1892216157   3171085.5900   \n",
       "6362460   730  TRANSFER 10000000.0000  C2140038573  17316255.0500   \n",
       "6362462   730  TRANSFER  7316255.0500  C1869569059  17316255.0500   \n",
       "6362584   741  TRANSFER  5674547.8900   C992223106   5674547.8900   \n",
       "\n",
       "         newbalanceOrig     nameDest  oldbalanceDest  newbalanceDest  isFraud  \\\n",
       "2736446    4953893.0800   C639921569          0.0000          0.0000        1   \n",
       "3247297    1343002.0800  C1147517658          0.0000          0.0000        1   \n",
       "3760288     536624.4100  C1100697970          0.0000          0.0000        1   \n",
       "5563713    4892193.0900   C891140444          0.0000          0.0000        1   \n",
       "5996407   19585040.3700  C1392803603          0.0000          0.0000        1   \n",
       "5996409   19585040.3700  C1109166882          0.0000          0.0000        1   \n",
       "6168499    3576297.1000   C484597480          0.0000          0.0000        1   \n",
       "6205439     353874.2200  C1770418982          0.0000          0.0000        1   \n",
       "6266413    2542664.2700   C661958277          0.0000          0.0000        1   \n",
       "6281482   10399045.0800  C1806199534          0.0000          0.0000        1   \n",
       "6281484   10399045.0800  C1909486199          0.0000          0.0000        1   \n",
       "6296014    3441041.4600  C1082139865          0.0000          0.0000        1   \n",
       "6351225    3171085.5900  C1308068787          0.0000          0.0000        1   \n",
       "6362460   17316255.0500  C1395467927          0.0000          0.0000        1   \n",
       "6362462   17316255.0500  C1861208726          0.0000          0.0000        1   \n",
       "6362584    5674547.8900  C1366804249          0.0000          0.0000        1   \n",
       "\n",
       "         isFlaggedFraud  \n",
       "2736446               1  \n",
       "3247297               1  \n",
       "3760288               1  \n",
       "5563713               1  \n",
       "5996407               1  \n",
       "5996409               1  \n",
       "6168499               1  \n",
       "6205439               1  \n",
       "6266413               1  \n",
       "6281482               1  \n",
       "6281484               1  \n",
       "6296014               1  \n",
       "6351225               1  \n",
       "6362460               1  \n",
       "6362462               1  \n",
       "6362584               1  "
      ]
     },
     "execution_count": 15,
     "metadata": {},
     "output_type": "execute_result"
    }
   ],
   "source": [
    "df[df['isFlaggedFraud']==1]\n"
   ]
  },
  {
   "cell_type": "code",
   "execution_count": 16,
   "id": "c3c43e8c-ce0b-4ae3-94de-9434c2bc6dc6",
   "metadata": {},
   "outputs": [],
   "source": [
    "# Observation: Transactions which are flag fraud by the system are actually fraud transactions"
   ]
  },
  {
   "cell_type": "code",
   "execution_count": 17,
   "id": "0bd05a1d-9a1e-4a48-b5d2-e7bf5514872d",
   "metadata": {},
   "outputs": [
    {
     "data": {
      "text/html": [
       "<div>\n",
       "<style scoped>\n",
       "    .dataframe tbody tr th:only-of-type {\n",
       "        vertical-align: middle;\n",
       "    }\n",
       "\n",
       "    .dataframe tbody tr th {\n",
       "        vertical-align: top;\n",
       "    }\n",
       "\n",
       "    .dataframe thead th {\n",
       "        text-align: right;\n",
       "    }\n",
       "</style>\n",
       "<table border=\"1\" class=\"dataframe\">\n",
       "  <thead>\n",
       "    <tr style=\"text-align: right;\">\n",
       "      <th></th>\n",
       "      <th>step</th>\n",
       "      <th>type</th>\n",
       "      <th>amount</th>\n",
       "      <th>nameOrig</th>\n",
       "      <th>oldbalanceOrg</th>\n",
       "      <th>newbalanceOrig</th>\n",
       "      <th>nameDest</th>\n",
       "      <th>oldbalanceDest</th>\n",
       "      <th>newbalanceDest</th>\n",
       "      <th>isFraud</th>\n",
       "      <th>isFlaggedFraud</th>\n",
       "    </tr>\n",
       "  </thead>\n",
       "  <tbody>\n",
       "    <tr>\n",
       "      <th>2</th>\n",
       "      <td>1</td>\n",
       "      <td>TRANSFER</td>\n",
       "      <td>181.0000</td>\n",
       "      <td>C1305486145</td>\n",
       "      <td>181.0000</td>\n",
       "      <td>0.0000</td>\n",
       "      <td>C553264065</td>\n",
       "      <td>0.0000</td>\n",
       "      <td>0.0000</td>\n",
       "      <td>1</td>\n",
       "      <td>0</td>\n",
       "    </tr>\n",
       "    <tr>\n",
       "      <th>3</th>\n",
       "      <td>1</td>\n",
       "      <td>CASH_OUT</td>\n",
       "      <td>181.0000</td>\n",
       "      <td>C840083671</td>\n",
       "      <td>181.0000</td>\n",
       "      <td>0.0000</td>\n",
       "      <td>C38997010</td>\n",
       "      <td>21182.0000</td>\n",
       "      <td>0.0000</td>\n",
       "      <td>1</td>\n",
       "      <td>0</td>\n",
       "    </tr>\n",
       "    <tr>\n",
       "      <th>251</th>\n",
       "      <td>1</td>\n",
       "      <td>TRANSFER</td>\n",
       "      <td>2806.0000</td>\n",
       "      <td>C1420196421</td>\n",
       "      <td>2806.0000</td>\n",
       "      <td>0.0000</td>\n",
       "      <td>C972765878</td>\n",
       "      <td>0.0000</td>\n",
       "      <td>0.0000</td>\n",
       "      <td>1</td>\n",
       "      <td>0</td>\n",
       "    </tr>\n",
       "    <tr>\n",
       "      <th>252</th>\n",
       "      <td>1</td>\n",
       "      <td>CASH_OUT</td>\n",
       "      <td>2806.0000</td>\n",
       "      <td>C2101527076</td>\n",
       "      <td>2806.0000</td>\n",
       "      <td>0.0000</td>\n",
       "      <td>C1007251739</td>\n",
       "      <td>26202.0000</td>\n",
       "      <td>0.0000</td>\n",
       "      <td>1</td>\n",
       "      <td>0</td>\n",
       "    </tr>\n",
       "    <tr>\n",
       "      <th>680</th>\n",
       "      <td>1</td>\n",
       "      <td>TRANSFER</td>\n",
       "      <td>20128.0000</td>\n",
       "      <td>C137533655</td>\n",
       "      <td>20128.0000</td>\n",
       "      <td>0.0000</td>\n",
       "      <td>C1848415041</td>\n",
       "      <td>0.0000</td>\n",
       "      <td>0.0000</td>\n",
       "      <td>1</td>\n",
       "      <td>0</td>\n",
       "    </tr>\n",
       "    <tr>\n",
       "      <th>...</th>\n",
       "      <td>...</td>\n",
       "      <td>...</td>\n",
       "      <td>...</td>\n",
       "      <td>...</td>\n",
       "      <td>...</td>\n",
       "      <td>...</td>\n",
       "      <td>...</td>\n",
       "      <td>...</td>\n",
       "      <td>...</td>\n",
       "      <td>...</td>\n",
       "      <td>...</td>\n",
       "    </tr>\n",
       "    <tr>\n",
       "      <th>6362615</th>\n",
       "      <td>743</td>\n",
       "      <td>CASH_OUT</td>\n",
       "      <td>339682.1300</td>\n",
       "      <td>C786484425</td>\n",
       "      <td>339682.1300</td>\n",
       "      <td>0.0000</td>\n",
       "      <td>C776919290</td>\n",
       "      <td>0.0000</td>\n",
       "      <td>339682.1300</td>\n",
       "      <td>1</td>\n",
       "      <td>0</td>\n",
       "    </tr>\n",
       "    <tr>\n",
       "      <th>6362616</th>\n",
       "      <td>743</td>\n",
       "      <td>TRANSFER</td>\n",
       "      <td>6311409.2800</td>\n",
       "      <td>C1529008245</td>\n",
       "      <td>6311409.2800</td>\n",
       "      <td>0.0000</td>\n",
       "      <td>C1881841831</td>\n",
       "      <td>0.0000</td>\n",
       "      <td>0.0000</td>\n",
       "      <td>1</td>\n",
       "      <td>0</td>\n",
       "    </tr>\n",
       "    <tr>\n",
       "      <th>6362617</th>\n",
       "      <td>743</td>\n",
       "      <td>CASH_OUT</td>\n",
       "      <td>6311409.2800</td>\n",
       "      <td>C1162922333</td>\n",
       "      <td>6311409.2800</td>\n",
       "      <td>0.0000</td>\n",
       "      <td>C1365125890</td>\n",
       "      <td>68488.8400</td>\n",
       "      <td>6379898.1100</td>\n",
       "      <td>1</td>\n",
       "      <td>0</td>\n",
       "    </tr>\n",
       "    <tr>\n",
       "      <th>6362618</th>\n",
       "      <td>743</td>\n",
       "      <td>TRANSFER</td>\n",
       "      <td>850002.5200</td>\n",
       "      <td>C1685995037</td>\n",
       "      <td>850002.5200</td>\n",
       "      <td>0.0000</td>\n",
       "      <td>C2080388513</td>\n",
       "      <td>0.0000</td>\n",
       "      <td>0.0000</td>\n",
       "      <td>1</td>\n",
       "      <td>0</td>\n",
       "    </tr>\n",
       "    <tr>\n",
       "      <th>6362619</th>\n",
       "      <td>743</td>\n",
       "      <td>CASH_OUT</td>\n",
       "      <td>850002.5200</td>\n",
       "      <td>C1280323807</td>\n",
       "      <td>850002.5200</td>\n",
       "      <td>0.0000</td>\n",
       "      <td>C873221189</td>\n",
       "      <td>6510099.1100</td>\n",
       "      <td>7360101.6300</td>\n",
       "      <td>1</td>\n",
       "      <td>0</td>\n",
       "    </tr>\n",
       "  </tbody>\n",
       "</table>\n",
       "<p>8034 rows × 11 columns</p>\n",
       "</div>"
      ],
      "text/plain": [
       "         step      type       amount     nameOrig  oldbalanceOrg  \\\n",
       "2           1  TRANSFER     181.0000  C1305486145       181.0000   \n",
       "3           1  CASH_OUT     181.0000   C840083671       181.0000   \n",
       "251         1  TRANSFER    2806.0000  C1420196421      2806.0000   \n",
       "252         1  CASH_OUT    2806.0000  C2101527076      2806.0000   \n",
       "680         1  TRANSFER   20128.0000   C137533655     20128.0000   \n",
       "...       ...       ...          ...          ...            ...   \n",
       "6362615   743  CASH_OUT  339682.1300   C786484425    339682.1300   \n",
       "6362616   743  TRANSFER 6311409.2800  C1529008245   6311409.2800   \n",
       "6362617   743  CASH_OUT 6311409.2800  C1162922333   6311409.2800   \n",
       "6362618   743  TRANSFER  850002.5200  C1685995037    850002.5200   \n",
       "6362619   743  CASH_OUT  850002.5200  C1280323807    850002.5200   \n",
       "\n",
       "         newbalanceOrig     nameDest  oldbalanceDest  newbalanceDest  isFraud  \\\n",
       "2                0.0000   C553264065          0.0000          0.0000        1   \n",
       "3                0.0000    C38997010      21182.0000          0.0000        1   \n",
       "251              0.0000   C972765878          0.0000          0.0000        1   \n",
       "252              0.0000  C1007251739      26202.0000          0.0000        1   \n",
       "680              0.0000  C1848415041          0.0000          0.0000        1   \n",
       "...                 ...          ...             ...             ...      ...   \n",
       "6362615          0.0000   C776919290          0.0000     339682.1300        1   \n",
       "6362616          0.0000  C1881841831          0.0000          0.0000        1   \n",
       "6362617          0.0000  C1365125890      68488.8400    6379898.1100        1   \n",
       "6362618          0.0000  C2080388513          0.0000          0.0000        1   \n",
       "6362619          0.0000   C873221189    6510099.1100    7360101.6300        1   \n",
       "\n",
       "         isFlaggedFraud  \n",
       "2                     0  \n",
       "3                     0  \n",
       "251                   0  \n",
       "252                   0  \n",
       "680                   0  \n",
       "...                 ...  \n",
       "6362615               0  \n",
       "6362616               0  \n",
       "6362617               0  \n",
       "6362618               0  \n",
       "6362619               0  \n",
       "\n",
       "[8034 rows x 11 columns]"
      ]
     },
     "execution_count": 17,
     "metadata": {},
     "output_type": "execute_result"
    }
   ],
   "source": [
    "df[(df['amount']==df['oldbalanceOrg']) & (df['isFraud']==1)]"
   ]
  },
  {
   "cell_type": "code",
   "execution_count": 18,
   "id": "21f87209-36c1-45fc-b109-9190304761ad",
   "metadata": {},
   "outputs": [],
   "source": [
    "# Observation: If transaction amount is same as amount present before transaction happended then the transaction \n",
    "# is basically a fraudulent transaction. Basically, we can say fraudsters know in this case that how much money is \n",
    "# present in the account of the victim and they directly clean the whole money from the account."
   ]
  },
  {
   "cell_type": "code",
   "execution_count": 19,
   "id": "79000664-ac72-4f6f-9b06-ecf1b116b78c",
   "metadata": {},
   "outputs": [
    {
     "data": {
      "text/plain": [
       "step              0\n",
       "type              0\n",
       "amount            0\n",
       "nameOrig          0\n",
       "oldbalanceOrg     0\n",
       "newbalanceOrig    0\n",
       "nameDest          0\n",
       "oldbalanceDest    0\n",
       "newbalanceDest    0\n",
       "isFraud           0\n",
       "isFlaggedFraud    0\n",
       "dtype: int64"
      ]
     },
     "execution_count": 19,
     "metadata": {},
     "output_type": "execute_result"
    }
   ],
   "source": [
    "# ---Data Preprocessing---\n",
    "# 1. Checking null values in our dataframe\n",
    "df.isnull().sum()"
   ]
  },
  {
   "cell_type": "code",
   "execution_count": 20,
   "id": "3d5e23e6-0f1d-4b4d-8346-5bff9aadb936",
   "metadata": {},
   "outputs": [],
   "source": [
    "# obv: no null values present"
   ]
  },
  {
   "cell_type": "code",
   "execution_count": 21,
   "id": "5e238454-7cf3-4c7d-9f35-0753081b4150",
   "metadata": {},
   "outputs": [
    {
     "data": {
      "text/html": [
       "<div>\n",
       "<style scoped>\n",
       "    .dataframe tbody tr th:only-of-type {\n",
       "        vertical-align: middle;\n",
       "    }\n",
       "\n",
       "    .dataframe tbody tr th {\n",
       "        vertical-align: top;\n",
       "    }\n",
       "\n",
       "    .dataframe thead th {\n",
       "        text-align: right;\n",
       "    }\n",
       "</style>\n",
       "<table border=\"1\" class=\"dataframe\">\n",
       "  <thead>\n",
       "    <tr style=\"text-align: right;\">\n",
       "      <th></th>\n",
       "      <th>step</th>\n",
       "      <th>type</th>\n",
       "      <th>amount</th>\n",
       "      <th>nameOrig</th>\n",
       "      <th>oldbalanceOrg</th>\n",
       "      <th>newbalanceOrig</th>\n",
       "      <th>nameDest</th>\n",
       "      <th>oldbalanceDest</th>\n",
       "      <th>newbalanceDest</th>\n",
       "      <th>isFraud</th>\n",
       "      <th>isFlaggedFraud</th>\n",
       "    </tr>\n",
       "  </thead>\n",
       "  <tbody>\n",
       "  </tbody>\n",
       "</table>\n",
       "</div>"
      ],
      "text/plain": [
       "Empty DataFrame\n",
       "Columns: [step, type, amount, nameOrig, oldbalanceOrg, newbalanceOrig, nameDest, oldbalanceDest, newbalanceDest, isFraud, isFlaggedFraud]\n",
       "Index: []"
      ]
     },
     "execution_count": 21,
     "metadata": {},
     "output_type": "execute_result"
    }
   ],
   "source": [
    "# 2. checking for duplicate values\n",
    "df[df.duplicated()]"
   ]
  },
  {
   "cell_type": "code",
   "execution_count": 22,
   "id": "f5fa6148-cd37-4986-8079-dc1412fc3a8b",
   "metadata": {},
   "outputs": [
    {
     "data": {
      "text/plain": [
       "0"
      ]
     },
     "execution_count": 22,
     "metadata": {},
     "output_type": "execute_result"
    }
   ],
   "source": [
    "df.duplicated().sum()"
   ]
  },
  {
   "cell_type": "code",
   "execution_count": 23,
   "id": "f8a0a517-1642-4a03-8951-4bb37b9a0fd4",
   "metadata": {},
   "outputs": [
    {
     "data": {
      "text/plain": [
       "isFraud\n",
       "0    6354407\n",
       "1       8213\n",
       "Name: count, dtype: int64"
      ]
     },
     "execution_count": 23,
     "metadata": {},
     "output_type": "execute_result"
    }
   ],
   "source": [
    "# Checking if the data is balanced or not\n",
    "# will count unique values in 'isFraud' column of our df\n",
    "df['isFraud'].value_counts()"
   ]
  },
  {
   "cell_type": "code",
   "execution_count": 24,
   "id": "819f7567-c58e-413f-acbd-75402e42dd75",
   "metadata": {},
   "outputs": [],
   "source": [
    "# obsv: Data is highly unbalanced, this could basically lead to biased models that surely will perform well\n",
    "# for one outcome and not so well for the rare event outcome"
   ]
  },
  {
   "cell_type": "code",
   "execution_count": 25,
   "id": "0b1b07f9-0a0a-4c1a-b1be-9cae8a6c222d",
   "metadata": {},
   "outputs": [
    {
     "data": {
      "image/png": "[encoded data removed]",
      "text/plain": [
       "<Figure size 640x480 with 1 Axes>"
      ]
     },
     "metadata": {},
     "output_type": "display_data"
    }
   ],
   "source": [
    "# Dat visualization \n",
    "sns.histplot(x='step', data=df, hue='isFraud');"
   ]
  },
  {
   "cell_type": "code",
   "execution_count": 26,
   "id": "829e6ae9-cd35-495d-b4e1-c78e681bca88",
   "metadata": {},
   "outputs": [],
   "source": [
    "# Obsv: Nothing such insightful info we received for fraud transaction. But one insight\n",
    "# we got from this is that most of the transactions occured before 400 step time unit\n",
    "# where 1 time unit = 1 hr"
   ]
  },
  {
   "cell_type": "code",
   "execution_count": 27,
   "id": "838d0805-5936-4be8-9089-60712d7d7dfa",
   "metadata": {},
   "outputs": [
    {
     "data": {
      "text/plain": [
       "<Axes: xlabel='amount'>"
      ]
     },
     "execution_count": 27,
     "metadata": {},
     "output_type": "execute_result"
    },
    {
     "data": {
      "image/png": "[encoded data removed]",
      "text/plain": [
       "<Figure size 640x480 with 1 Axes>"
      ]
     },
     "metadata": {},
     "output_type": "display_data"
    }
   ],
   "source": [
    "sns.rugplot(x='amount', data=df, height=0.8, color='magenta')"
   ]
  },
  {
   "cell_type": "code",
   "execution_count": 28,
   "id": "38bead92-f142-4203-b3b7-ede7b326a28e",
   "metadata": {},
   "outputs": [
    {
     "data": {
      "image/png": "[encoded data removed]",
      "text/plain": [
       "<Figure size 640x480 with 1 Axes>"
      ]
     },
     "metadata": {},
     "output_type": "display_data"
    }
   ],
   "source": [
    "sns.countplot(x=df['isFraud'])\n",
    "plt.title(\"un-balanced Dataset\")\n",
    "plt.show()"
   ]
  },
  {
   "cell_type": "code",
   "execution_count": 29,
   "id": "46eb14b6-bd86-4e5b-b80c-89195aa67c17",
   "metadata": {},
   "outputs": [],
   "source": [
    "# obsv: from countplot we can say that data set is highly unbalanced .......we need to balance this dataset to prevent biasing in\n",
    "# trained model. Second obsv from the rug plot is that very few transactions are done with large amount of money. Those could be possibly\n",
    "# fraudulent transactions done by fraudsters"
   ]
  },
  {
   "cell_type": "code",
   "execution_count": 30,
   "id": "08913d0e-727c-4890-a1dc-b6067a5e0097",
   "metadata": {},
   "outputs": [
    {
     "data": {
      "text/plain": [
       "type\n",
       "CASH_OUT    2237500\n",
       "PAYMENT     2151495\n",
       "CASH_IN     1399284\n",
       "TRANSFER     532909\n",
       "DEBIT         41432\n",
       "Name: count, dtype: int64"
      ]
     },
     "execution_count": 30,
     "metadata": {},
     "output_type": "execute_result"
    }
   ],
   "source": [
    "df['type'].value_counts()"
   ]
  },
  {
   "cell_type": "code",
   "execution_count": 31,
   "id": "e203e8ce-d0a6-4f91-a4c0-f4cf1a47e211",
   "metadata": {},
   "outputs": [
    {
     "data": {
      "text/plain": [
       "<seaborn.axisgrid.FacetGrid at 0x1f1b2d5ca10>"
      ]
     },
     "execution_count": 31,
     "metadata": {},
     "output_type": "execute_result"
    },
    {
     "data": {
      "image/png": "[encoded data removed]",
      "text/plain": [
       "<Figure size 500x500 with 1 Axes>"
      ]
     },
     "metadata": {},
     "output_type": "display_data"
    }
   ],
   "source": [
    "# Visualizing relationship b/w types of transaction and fraudulent and non fraudulent transaction \n",
    "# We are basically doing this to figure out what type of transactions are carried out by fraudsters\n",
    "sns.catplot(data=df, x=\"type\", y=\"isFraud\")"
   ]
  },
  {
   "cell_type": "code",
   "execution_count": 32,
   "id": "449a1073-275b-4a3c-b259-9236e31b8cb5",
   "metadata": {},
   "outputs": [],
   "source": [
    "# obsv: most fraud transactions are one in money is transferring from one account to another or in which\n",
    "# physicall cash is withdrawn"
   ]
  },
  {
   "cell_type": "code",
   "execution_count": 33,
   "id": "b7bf0557-1dec-449b-b3a9-bbed914aa2c4",
   "metadata": {},
   "outputs": [
    {
     "data": {
      "text/html": [
       "<div>\n",
       "<style scoped>\n",
       "    .dataframe tbody tr th:only-of-type {\n",
       "        vertical-align: middle;\n",
       "    }\n",
       "\n",
       "    .dataframe tbody tr th {\n",
       "        vertical-align: top;\n",
       "    }\n",
       "\n",
       "    .dataframe thead th {\n",
       "        text-align: right;\n",
       "    }\n",
       "</style>\n",
       "<table border=\"1\" class=\"dataframe\">\n",
       "  <thead>\n",
       "    <tr style=\"text-align: right;\">\n",
       "      <th></th>\n",
       "      <th>step</th>\n",
       "      <th>type</th>\n",
       "      <th>amount</th>\n",
       "      <th>nameOrig</th>\n",
       "      <th>oldbalanceOrg</th>\n",
       "      <th>newbalanceOrig</th>\n",
       "      <th>nameDest</th>\n",
       "      <th>oldbalanceDest</th>\n",
       "      <th>newbalanceDest</th>\n",
       "      <th>isFraud</th>\n",
       "      <th>isFlaggedFraud</th>\n",
       "    </tr>\n",
       "  </thead>\n",
       "  <tbody>\n",
       "    <tr>\n",
       "      <th>3</th>\n",
       "      <td>1</td>\n",
       "      <td>CASH_OUT</td>\n",
       "      <td>181.0000</td>\n",
       "      <td>C840083671</td>\n",
       "      <td>181.0000</td>\n",
       "      <td>0.0000</td>\n",
       "      <td>C38997010</td>\n",
       "      <td>21182.0000</td>\n",
       "      <td>0.0000</td>\n",
       "      <td>1</td>\n",
       "      <td>0</td>\n",
       "    </tr>\n",
       "    <tr>\n",
       "      <th>252</th>\n",
       "      <td>1</td>\n",
       "      <td>CASH_OUT</td>\n",
       "      <td>2806.0000</td>\n",
       "      <td>C2101527076</td>\n",
       "      <td>2806.0000</td>\n",
       "      <td>0.0000</td>\n",
       "      <td>C1007251739</td>\n",
       "      <td>26202.0000</td>\n",
       "      <td>0.0000</td>\n",
       "      <td>1</td>\n",
       "      <td>0</td>\n",
       "    </tr>\n",
       "    <tr>\n",
       "      <th>681</th>\n",
       "      <td>1</td>\n",
       "      <td>CASH_OUT</td>\n",
       "      <td>20128.0000</td>\n",
       "      <td>C1118430673</td>\n",
       "      <td>20128.0000</td>\n",
       "      <td>0.0000</td>\n",
       "      <td>C339924917</td>\n",
       "      <td>6268.0000</td>\n",
       "      <td>12145.8500</td>\n",
       "      <td>1</td>\n",
       "      <td>0</td>\n",
       "    </tr>\n",
       "    <tr>\n",
       "      <th>724</th>\n",
       "      <td>1</td>\n",
       "      <td>CASH_OUT</td>\n",
       "      <td>416001.3300</td>\n",
       "      <td>C749981943</td>\n",
       "      <td>0.0000</td>\n",
       "      <td>0.0000</td>\n",
       "      <td>C667346055</td>\n",
       "      <td>102.0000</td>\n",
       "      <td>9291619.6200</td>\n",
       "      <td>1</td>\n",
       "      <td>0</td>\n",
       "    </tr>\n",
       "    <tr>\n",
       "      <th>970</th>\n",
       "      <td>1</td>\n",
       "      <td>CASH_OUT</td>\n",
       "      <td>1277212.7700</td>\n",
       "      <td>C467632528</td>\n",
       "      <td>1277212.7700</td>\n",
       "      <td>0.0000</td>\n",
       "      <td>C716083600</td>\n",
       "      <td>0.0000</td>\n",
       "      <td>2444985.1900</td>\n",
       "      <td>1</td>\n",
       "      <td>0</td>\n",
       "    </tr>\n",
       "    <tr>\n",
       "      <th>...</th>\n",
       "      <td>...</td>\n",
       "      <td>...</td>\n",
       "      <td>...</td>\n",
       "      <td>...</td>\n",
       "      <td>...</td>\n",
       "      <td>...</td>\n",
       "      <td>...</td>\n",
       "      <td>...</td>\n",
       "      <td>...</td>\n",
       "      <td>...</td>\n",
       "      <td>...</td>\n",
       "    </tr>\n",
       "    <tr>\n",
       "      <th>6362611</th>\n",
       "      <td>742</td>\n",
       "      <td>CASH_OUT</td>\n",
       "      <td>63416.9900</td>\n",
       "      <td>C994950684</td>\n",
       "      <td>63416.9900</td>\n",
       "      <td>0.0000</td>\n",
       "      <td>C1662241365</td>\n",
       "      <td>276433.1800</td>\n",
       "      <td>339850.1700</td>\n",
       "      <td>1</td>\n",
       "      <td>0</td>\n",
       "    </tr>\n",
       "    <tr>\n",
       "      <th>6362613</th>\n",
       "      <td>743</td>\n",
       "      <td>CASH_OUT</td>\n",
       "      <td>1258818.8200</td>\n",
       "      <td>C1436118706</td>\n",
       "      <td>1258818.8200</td>\n",
       "      <td>0.0000</td>\n",
       "      <td>C1240760502</td>\n",
       "      <td>503464.5000</td>\n",
       "      <td>1762283.3300</td>\n",
       "      <td>1</td>\n",
       "      <td>0</td>\n",
       "    </tr>\n",
       "    <tr>\n",
       "      <th>6362615</th>\n",
       "      <td>743</td>\n",
       "      <td>CASH_OUT</td>\n",
       "      <td>339682.1300</td>\n",
       "      <td>C786484425</td>\n",
       "      <td>339682.1300</td>\n",
       "      <td>0.0000</td>\n",
       "      <td>C776919290</td>\n",
       "      <td>0.0000</td>\n",
       "      <td>339682.1300</td>\n",
       "      <td>1</td>\n",
       "      <td>0</td>\n",
       "    </tr>\n",
       "    <tr>\n",
       "      <th>6362617</th>\n",
       "      <td>743</td>\n",
       "      <td>CASH_OUT</td>\n",
       "      <td>6311409.2800</td>\n",
       "      <td>C1162922333</td>\n",
       "      <td>6311409.2800</td>\n",
       "      <td>0.0000</td>\n",
       "      <td>C1365125890</td>\n",
       "      <td>68488.8400</td>\n",
       "      <td>6379898.1100</td>\n",
       "      <td>1</td>\n",
       "      <td>0</td>\n",
       "    </tr>\n",
       "    <tr>\n",
       "      <th>6362619</th>\n",
       "      <td>743</td>\n",
       "      <td>CASH_OUT</td>\n",
       "      <td>850002.5200</td>\n",
       "      <td>C1280323807</td>\n",
       "      <td>850002.5200</td>\n",
       "      <td>0.0000</td>\n",
       "      <td>C873221189</td>\n",
       "      <td>6510099.1100</td>\n",
       "      <td>7360101.6300</td>\n",
       "      <td>1</td>\n",
       "      <td>0</td>\n",
       "    </tr>\n",
       "  </tbody>\n",
       "</table>\n",
       "<p>4116 rows × 11 columns</p>\n",
       "</div>"
      ],
      "text/plain": [
       "         step      type       amount     nameOrig  oldbalanceOrg  \\\n",
       "3           1  CASH_OUT     181.0000   C840083671       181.0000   \n",
       "252         1  CASH_OUT    2806.0000  C2101527076      2806.0000   \n",
       "681         1  CASH_OUT   20128.0000  C1118430673     20128.0000   \n",
       "724         1  CASH_OUT  416001.3300   C749981943         0.0000   \n",
       "970         1  CASH_OUT 1277212.7700   C467632528   1277212.7700   \n",
       "...       ...       ...          ...          ...            ...   \n",
       "6362611   742  CASH_OUT   63416.9900   C994950684     63416.9900   \n",
       "6362613   743  CASH_OUT 1258818.8200  C1436118706   1258818.8200   \n",
       "6362615   743  CASH_OUT  339682.1300   C786484425    339682.1300   \n",
       "6362617   743  CASH_OUT 6311409.2800  C1162922333   6311409.2800   \n",
       "6362619   743  CASH_OUT  850002.5200  C1280323807    850002.5200   \n",
       "\n",
       "         newbalanceOrig     nameDest  oldbalanceDest  newbalanceDest  isFraud  \\\n",
       "3                0.0000    C38997010      21182.0000          0.0000        1   \n",
       "252              0.0000  C1007251739      26202.0000          0.0000        1   \n",
       "681              0.0000   C339924917       6268.0000      12145.8500        1   \n",
       "724              0.0000   C667346055        102.0000    9291619.6200        1   \n",
       "970              0.0000   C716083600          0.0000    2444985.1900        1   \n",
       "...                 ...          ...             ...             ...      ...   \n",
       "6362611          0.0000  C1662241365     276433.1800     339850.1700        1   \n",
       "6362613          0.0000  C1240760502     503464.5000    1762283.3300        1   \n",
       "6362615          0.0000   C776919290          0.0000     339682.1300        1   \n",
       "6362617          0.0000  C1365125890      68488.8400    6379898.1100        1   \n",
       "6362619          0.0000   C873221189    6510099.1100    7360101.6300        1   \n",
       "\n",
       "         isFlaggedFraud  \n",
       "3                     0  \n",
       "252                   0  \n",
       "681                   0  \n",
       "724                   0  \n",
       "970                   0  \n",
       "...                 ...  \n",
       "6362611               0  \n",
       "6362613               0  \n",
       "6362615               0  \n",
       "6362617               0  \n",
       "6362619               0  \n",
       "\n",
       "[4116 rows x 11 columns]"
      ]
     },
     "execution_count": 33,
     "metadata": {},
     "output_type": "execute_result"
    }
   ],
   "source": [
    "df.loc[(df['type']==\"CASH_OUT\") & (df['isFraud']==1)]"
   ]
  },
  {
   "cell_type": "code",
   "execution_count": 34,
   "id": "6a3f9bd0-5349-4e9e-8ea8-4ddd63f5863e",
   "metadata": {},
   "outputs": [
    {
     "data": {
      "text/html": [
       "<div>\n",
       "<style scoped>\n",
       "    .dataframe tbody tr th:only-of-type {\n",
       "        vertical-align: middle;\n",
       "    }\n",
       "\n",
       "    .dataframe tbody tr th {\n",
       "        vertical-align: top;\n",
       "    }\n",
       "\n",
       "    .dataframe thead th {\n",
       "        text-align: right;\n",
       "    }\n",
       "</style>\n",
       "<table border=\"1\" class=\"dataframe\">\n",
       "  <thead>\n",
       "    <tr style=\"text-align: right;\">\n",
       "      <th></th>\n",
       "      <th>step</th>\n",
       "      <th>type</th>\n",
       "      <th>amount</th>\n",
       "      <th>nameOrig</th>\n",
       "      <th>oldbalanceOrg</th>\n",
       "      <th>newbalanceOrig</th>\n",
       "      <th>nameDest</th>\n",
       "      <th>oldbalanceDest</th>\n",
       "      <th>newbalanceDest</th>\n",
       "      <th>isFraud</th>\n",
       "      <th>isFlaggedFraud</th>\n",
       "    </tr>\n",
       "  </thead>\n",
       "  <tbody>\n",
       "    <tr>\n",
       "      <th>2</th>\n",
       "      <td>1</td>\n",
       "      <td>TRANSFER</td>\n",
       "      <td>181.0000</td>\n",
       "      <td>C1305486145</td>\n",
       "      <td>181.0000</td>\n",
       "      <td>0.0000</td>\n",
       "      <td>C553264065</td>\n",
       "      <td>0.0000</td>\n",
       "      <td>0.0000</td>\n",
       "      <td>1</td>\n",
       "      <td>0</td>\n",
       "    </tr>\n",
       "    <tr>\n",
       "      <th>251</th>\n",
       "      <td>1</td>\n",
       "      <td>TRANSFER</td>\n",
       "      <td>2806.0000</td>\n",
       "      <td>C1420196421</td>\n",
       "      <td>2806.0000</td>\n",
       "      <td>0.0000</td>\n",
       "      <td>C972765878</td>\n",
       "      <td>0.0000</td>\n",
       "      <td>0.0000</td>\n",
       "      <td>1</td>\n",
       "      <td>0</td>\n",
       "    </tr>\n",
       "    <tr>\n",
       "      <th>680</th>\n",
       "      <td>1</td>\n",
       "      <td>TRANSFER</td>\n",
       "      <td>20128.0000</td>\n",
       "      <td>C137533655</td>\n",
       "      <td>20128.0000</td>\n",
       "      <td>0.0000</td>\n",
       "      <td>C1848415041</td>\n",
       "      <td>0.0000</td>\n",
       "      <td>0.0000</td>\n",
       "      <td>1</td>\n",
       "      <td>0</td>\n",
       "    </tr>\n",
       "    <tr>\n",
       "      <th>969</th>\n",
       "      <td>1</td>\n",
       "      <td>TRANSFER</td>\n",
       "      <td>1277212.7700</td>\n",
       "      <td>C1334405552</td>\n",
       "      <td>1277212.7700</td>\n",
       "      <td>0.0000</td>\n",
       "      <td>C431687661</td>\n",
       "      <td>0.0000</td>\n",
       "      <td>0.0000</td>\n",
       "      <td>1</td>\n",
       "      <td>0</td>\n",
       "    </tr>\n",
       "    <tr>\n",
       "      <th>1115</th>\n",
       "      <td>1</td>\n",
       "      <td>TRANSFER</td>\n",
       "      <td>35063.6300</td>\n",
       "      <td>C1364127192</td>\n",
       "      <td>35063.6300</td>\n",
       "      <td>0.0000</td>\n",
       "      <td>C1136419747</td>\n",
       "      <td>0.0000</td>\n",
       "      <td>0.0000</td>\n",
       "      <td>1</td>\n",
       "      <td>0</td>\n",
       "    </tr>\n",
       "    <tr>\n",
       "      <th>...</th>\n",
       "      <td>...</td>\n",
       "      <td>...</td>\n",
       "      <td>...</td>\n",
       "      <td>...</td>\n",
       "      <td>...</td>\n",
       "      <td>...</td>\n",
       "      <td>...</td>\n",
       "      <td>...</td>\n",
       "      <td>...</td>\n",
       "      <td>...</td>\n",
       "      <td>...</td>\n",
       "    </tr>\n",
       "    <tr>\n",
       "      <th>6362610</th>\n",
       "      <td>742</td>\n",
       "      <td>TRANSFER</td>\n",
       "      <td>63416.9900</td>\n",
       "      <td>C778071008</td>\n",
       "      <td>63416.9900</td>\n",
       "      <td>0.0000</td>\n",
       "      <td>C1812552860</td>\n",
       "      <td>0.0000</td>\n",
       "      <td>0.0000</td>\n",
       "      <td>1</td>\n",
       "      <td>0</td>\n",
       "    </tr>\n",
       "    <tr>\n",
       "      <th>6362612</th>\n",
       "      <td>743</td>\n",
       "      <td>TRANSFER</td>\n",
       "      <td>1258818.8200</td>\n",
       "      <td>C1531301470</td>\n",
       "      <td>1258818.8200</td>\n",
       "      <td>0.0000</td>\n",
       "      <td>C1470998563</td>\n",
       "      <td>0.0000</td>\n",
       "      <td>0.0000</td>\n",
       "      <td>1</td>\n",
       "      <td>0</td>\n",
       "    </tr>\n",
       "    <tr>\n",
       "      <th>6362614</th>\n",
       "      <td>743</td>\n",
       "      <td>TRANSFER</td>\n",
       "      <td>339682.1300</td>\n",
       "      <td>C2013999242</td>\n",
       "      <td>339682.1300</td>\n",
       "      <td>0.0000</td>\n",
       "      <td>C1850423904</td>\n",
       "      <td>0.0000</td>\n",
       "      <td>0.0000</td>\n",
       "      <td>1</td>\n",
       "      <td>0</td>\n",
       "    </tr>\n",
       "    <tr>\n",
       "      <th>6362616</th>\n",
       "      <td>743</td>\n",
       "      <td>TRANSFER</td>\n",
       "      <td>6311409.2800</td>\n",
       "      <td>C1529008245</td>\n",
       "      <td>6311409.2800</td>\n",
       "      <td>0.0000</td>\n",
       "      <td>C1881841831</td>\n",
       "      <td>0.0000</td>\n",
       "      <td>0.0000</td>\n",
       "      <td>1</td>\n",
       "      <td>0</td>\n",
       "    </tr>\n",
       "    <tr>\n",
       "      <th>6362618</th>\n",
       "      <td>743</td>\n",
       "      <td>TRANSFER</td>\n",
       "      <td>850002.5200</td>\n",
       "      <td>C1685995037</td>\n",
       "      <td>850002.5200</td>\n",
       "      <td>0.0000</td>\n",
       "      <td>C2080388513</td>\n",
       "      <td>0.0000</td>\n",
       "      <td>0.0000</td>\n",
       "      <td>1</td>\n",
       "      <td>0</td>\n",
       "    </tr>\n",
       "  </tbody>\n",
       "</table>\n",
       "<p>4097 rows × 11 columns</p>\n",
       "</div>"
      ],
      "text/plain": [
       "         step      type       amount     nameOrig  oldbalanceOrg  \\\n",
       "2           1  TRANSFER     181.0000  C1305486145       181.0000   \n",
       "251         1  TRANSFER    2806.0000  C1420196421      2806.0000   \n",
       "680         1  TRANSFER   20128.0000   C137533655     20128.0000   \n",
       "969         1  TRANSFER 1277212.7700  C1334405552   1277212.7700   \n",
       "1115        1  TRANSFER   35063.6300  C1364127192     35063.6300   \n",
       "...       ...       ...          ...          ...            ...   \n",
       "6362610   742  TRANSFER   63416.9900   C778071008     63416.9900   \n",
       "6362612   743  TRANSFER 1258818.8200  C1531301470   1258818.8200   \n",
       "6362614   743  TRANSFER  339682.1300  C2013999242    339682.1300   \n",
       "6362616   743  TRANSFER 6311409.2800  C1529008245   6311409.2800   \n",
       "6362618   743  TRANSFER  850002.5200  C1685995037    850002.5200   \n",
       "\n",
       "         newbalanceOrig     nameDest  oldbalanceDest  newbalanceDest  isFraud  \\\n",
       "2                0.0000   C553264065          0.0000          0.0000        1   \n",
       "251              0.0000   C972765878          0.0000          0.0000        1   \n",
       "680              0.0000  C1848415041          0.0000          0.0000        1   \n",
       "969              0.0000   C431687661          0.0000          0.0000        1   \n",
       "1115             0.0000  C1136419747          0.0000          0.0000        1   \n",
       "...                 ...          ...             ...             ...      ...   \n",
       "6362610          0.0000  C1812552860          0.0000          0.0000        1   \n",
       "6362612          0.0000  C1470998563          0.0000          0.0000        1   \n",
       "6362614          0.0000  C1850423904          0.0000          0.0000        1   \n",
       "6362616          0.0000  C1881841831          0.0000          0.0000        1   \n",
       "6362618          0.0000  C2080388513          0.0000          0.0000        1   \n",
       "\n",
       "         isFlaggedFraud  \n",
       "2                     0  \n",
       "251                   0  \n",
       "680                   0  \n",
       "969                   0  \n",
       "1115                  0  \n",
       "...                 ...  \n",
       "6362610               0  \n",
       "6362612               0  \n",
       "6362614               0  \n",
       "6362616               0  \n",
       "6362618               0  \n",
       "\n",
       "[4097 rows x 11 columns]"
      ]
     },
     "execution_count": 34,
     "metadata": {},
     "output_type": "execute_result"
    }
   ],
   "source": [
    "df.loc[(df['type']==\"TRANSFER\") & (df['isFraud']==1)]"
   ]
  },
  {
   "cell_type": "code",
   "execution_count": 35,
   "id": "ae450b9c-a424-4d16-b375-6d704fd4e272",
   "metadata": {},
   "outputs": [],
   "source": [
    "# Obsv : Fraudsters are using cash_out and transfer type of trans for carrying out almost 100 percent of frauds"
   ]
  },
  {
   "cell_type": "code",
   "execution_count": 36,
   "id": "6a695b5b-3409-4d0f-ab67-7bae9da20ac4",
   "metadata": {},
   "outputs": [
    {
     "data": {
      "text/plain": [
       "type\n",
       "CASH_OUT    2237500\n",
       "PAYMENT     2151495\n",
       "CASH_IN     1399284\n",
       "TRANSFER     532909\n",
       "DEBIT         41432\n",
       "Name: count, dtype: int64"
      ]
     },
     "execution_count": 36,
     "metadata": {},
     "output_type": "execute_result"
    }
   ],
   "source": [
    "df['type'].value_counts()"
   ]
  },
  {
   "cell_type": "code",
   "execution_count": 37,
   "id": "9d8510da-e177-4f91-a4bf-2713b99b7df2",
   "metadata": {},
   "outputs": [
    {
     "data": {
      "image/png": "[encoded data removed]",
      "text/plain": [
       "<Figure size 640x480 with 1 Axes>"
      ]
     },
     "metadata": {},
     "output_type": "display_data"
    }
   ],
   "source": [
    "plt.pie(x = df['type'].value_counts(), autopct='%.2f',labels=['CASH_OUT','PAYMENT','CASH_IN','TRANSFER','DEBIT'])\n",
    "plt.show()"
   ]
  },
  {
   "cell_type": "code",
   "execution_count": 38,
   "id": "f39e9e1e-7f33-447d-b176-5dcc112eaf2b",
   "metadata": {},
   "outputs": [],
   "source": [
    "# Obsv: THe two major type of transactions cash_out and payment are probably might have been the best way for fraudsters to\n",
    "# target as most of the transaction are of these types"
   ]
  },
  {
   "cell_type": "code",
   "execution_count": 39,
   "id": "a0a2ecc2-d8a5-4a89-aa96-919fede75925",
   "metadata": {},
   "outputs": [
    {
     "data": {
      "text/html": [
       "<div>\n",
       "<style scoped>\n",
       "    .dataframe tbody tr th:only-of-type {\n",
       "        vertical-align: middle;\n",
       "    }\n",
       "\n",
       "    .dataframe tbody tr th {\n",
       "        vertical-align: top;\n",
       "    }\n",
       "\n",
       "    .dataframe thead th {\n",
       "        text-align: right;\n",
       "    }\n",
       "</style>\n",
       "<table border=\"1\" class=\"dataframe\">\n",
       "  <thead>\n",
       "    <tr style=\"text-align: right;\">\n",
       "      <th></th>\n",
       "      <th>step</th>\n",
       "      <th>type</th>\n",
       "      <th>amount</th>\n",
       "      <th>nameOrig</th>\n",
       "      <th>oldbalanceOrg</th>\n",
       "      <th>newbalanceOrig</th>\n",
       "      <th>nameDest</th>\n",
       "      <th>oldbalanceDest</th>\n",
       "      <th>newbalanceDest</th>\n",
       "      <th>isFraud</th>\n",
       "      <th>isFlaggedFraud</th>\n",
       "    </tr>\n",
       "  </thead>\n",
       "  <tbody>\n",
       "  </tbody>\n",
       "</table>\n",
       "</div>"
      ],
      "text/plain": [
       "Empty DataFrame\n",
       "Columns: [step, type, amount, nameOrig, oldbalanceOrg, newbalanceOrig, nameDest, oldbalanceDest, newbalanceDest, isFraud, isFlaggedFraud]\n",
       "Index: []"
      ]
     },
     "execution_count": 39,
     "metadata": {},
     "output_type": "execute_result"
    }
   ],
   "source": [
    "df.loc[(df['type']==\"Payment\") & (df['isFraud']==1)]"
   ]
  },
  {
   "cell_type": "code",
   "execution_count": 40,
   "id": "164d4c69-884d-45bf-97c3-802a85a50cfe",
   "metadata": {},
   "outputs": [],
   "source": [
    "# Although, in the dataset I have no fraud transaction is noticed by payment method"
   ]
  },
  {
   "cell_type": "code",
   "execution_count": 41,
   "id": "e749ebc7-c06e-4478-93d6-4a409b23b3bb",
   "metadata": {},
   "outputs": [],
   "source": [
    "# Finding outliers using interquartile range (IQR) method"
   ]
  },
  {
   "cell_type": "code",
   "execution_count": 42,
   "id": "53a63ea1-174c-408c-9ed4-51e7d8dcd954",
   "metadata": {},
   "outputs": [
    {
     "name": "stdout",
     "output_type": "stream",
     "text": [
      "upper limit:  603.5\n",
      "lower limit:  -112.5\n"
     ]
    }
   ],
   "source": [
    "Q1 = df['step'].quantile(0.25)\n",
    "Q3 = df['step'].quantile(0.75)\n",
    "iqr = Q3 - Q1\n",
    "up_limit = Q3 + (1.5 * iqr)\n",
    "low_limit = Q1 - (1.5 * iqr)\n",
    "\n",
    "print(\"upper limit: \", up_limit)\n",
    "print(\"lower limit: \", low_limit)\n"
   ]
  },
  {
   "cell_type": "code",
   "execution_count": 43,
   "id": "4566a565-abe4-4978-a017-32957b959ee8",
   "metadata": {},
   "outputs": [],
   "source": [
    "# This is the range of step ( unit of time ) below this range lower limit and above this \n",
    "# range upper limit outliers lies"
   ]
  },
  {
   "cell_type": "code",
   "execution_count": 44,
   "id": "f06df38e-0b0a-4be2-8c75-167b352117e5",
   "metadata": {},
   "outputs": [
    {
     "data": {
      "text/html": [
       "<div>\n",
       "<style scoped>\n",
       "    .dataframe tbody tr th:only-of-type {\n",
       "        vertical-align: middle;\n",
       "    }\n",
       "\n",
       "    .dataframe tbody tr th {\n",
       "        vertical-align: top;\n",
       "    }\n",
       "\n",
       "    .dataframe thead th {\n",
       "        text-align: right;\n",
       "    }\n",
       "</style>\n",
       "<table border=\"1\" class=\"dataframe\">\n",
       "  <thead>\n",
       "    <tr style=\"text-align: right;\">\n",
       "      <th></th>\n",
       "      <th>step</th>\n",
       "      <th>type</th>\n",
       "      <th>amount</th>\n",
       "      <th>nameOrig</th>\n",
       "      <th>oldbalanceOrg</th>\n",
       "      <th>newbalanceOrig</th>\n",
       "      <th>nameDest</th>\n",
       "      <th>oldbalanceDest</th>\n",
       "      <th>newbalanceDest</th>\n",
       "      <th>isFraud</th>\n",
       "      <th>isFlaggedFraud</th>\n",
       "    </tr>\n",
       "  </thead>\n",
       "  <tbody>\n",
       "    <tr>\n",
       "      <th>6259932</th>\n",
       "      <td>604</td>\n",
       "      <td>TRANSFER</td>\n",
       "      <td>714218.4800</td>\n",
       "      <td>C454938739</td>\n",
       "      <td>714218.4800</td>\n",
       "      <td>0.0000</td>\n",
       "      <td>C482986731</td>\n",
       "      <td>0.0000</td>\n",
       "      <td>0.0000</td>\n",
       "      <td>1</td>\n",
       "      <td>0</td>\n",
       "    </tr>\n",
       "    <tr>\n",
       "      <th>6259933</th>\n",
       "      <td>604</td>\n",
       "      <td>CASH_OUT</td>\n",
       "      <td>714218.4800</td>\n",
       "      <td>C1835708623</td>\n",
       "      <td>714218.4800</td>\n",
       "      <td>0.0000</td>\n",
       "      <td>C1881116283</td>\n",
       "      <td>106940.8300</td>\n",
       "      <td>821159.3100</td>\n",
       "      <td>1</td>\n",
       "      <td>0</td>\n",
       "    </tr>\n",
       "    <tr>\n",
       "      <th>6259934</th>\n",
       "      <td>604</td>\n",
       "      <td>TRANSFER</td>\n",
       "      <td>277582.5300</td>\n",
       "      <td>C2144116571</td>\n",
       "      <td>277582.5300</td>\n",
       "      <td>0.0000</td>\n",
       "      <td>C570246252</td>\n",
       "      <td>0.0000</td>\n",
       "      <td>0.0000</td>\n",
       "      <td>1</td>\n",
       "      <td>0</td>\n",
       "    </tr>\n",
       "    <tr>\n",
       "      <th>6259935</th>\n",
       "      <td>604</td>\n",
       "      <td>CASH_OUT</td>\n",
       "      <td>277582.5300</td>\n",
       "      <td>C1512896686</td>\n",
       "      <td>277582.5300</td>\n",
       "      <td>0.0000</td>\n",
       "      <td>C731882373</td>\n",
       "      <td>0.0000</td>\n",
       "      <td>277582.5300</td>\n",
       "      <td>1</td>\n",
       "      <td>0</td>\n",
       "    </tr>\n",
       "    <tr>\n",
       "      <th>6259936</th>\n",
       "      <td>604</td>\n",
       "      <td>TRANSFER</td>\n",
       "      <td>4672401.0400</td>\n",
       "      <td>C801580496</td>\n",
       "      <td>4672401.0400</td>\n",
       "      <td>0.0000</td>\n",
       "      <td>C1917884973</td>\n",
       "      <td>0.0000</td>\n",
       "      <td>0.0000</td>\n",
       "      <td>1</td>\n",
       "      <td>0</td>\n",
       "    </tr>\n",
       "    <tr>\n",
       "      <th>...</th>\n",
       "      <td>...</td>\n",
       "      <td>...</td>\n",
       "      <td>...</td>\n",
       "      <td>...</td>\n",
       "      <td>...</td>\n",
       "      <td>...</td>\n",
       "      <td>...</td>\n",
       "      <td>...</td>\n",
       "      <td>...</td>\n",
       "      <td>...</td>\n",
       "      <td>...</td>\n",
       "    </tr>\n",
       "    <tr>\n",
       "      <th>6362615</th>\n",
       "      <td>743</td>\n",
       "      <td>CASH_OUT</td>\n",
       "      <td>339682.1300</td>\n",
       "      <td>C786484425</td>\n",
       "      <td>339682.1300</td>\n",
       "      <td>0.0000</td>\n",
       "      <td>C776919290</td>\n",
       "      <td>0.0000</td>\n",
       "      <td>339682.1300</td>\n",
       "      <td>1</td>\n",
       "      <td>0</td>\n",
       "    </tr>\n",
       "    <tr>\n",
       "      <th>6362616</th>\n",
       "      <td>743</td>\n",
       "      <td>TRANSFER</td>\n",
       "      <td>6311409.2800</td>\n",
       "      <td>C1529008245</td>\n",
       "      <td>6311409.2800</td>\n",
       "      <td>0.0000</td>\n",
       "      <td>C1881841831</td>\n",
       "      <td>0.0000</td>\n",
       "      <td>0.0000</td>\n",
       "      <td>1</td>\n",
       "      <td>0</td>\n",
       "    </tr>\n",
       "    <tr>\n",
       "      <th>6362617</th>\n",
       "      <td>743</td>\n",
       "      <td>CASH_OUT</td>\n",
       "      <td>6311409.2800</td>\n",
       "      <td>C1162922333</td>\n",
       "      <td>6311409.2800</td>\n",
       "      <td>0.0000</td>\n",
       "      <td>C1365125890</td>\n",
       "      <td>68488.8400</td>\n",
       "      <td>6379898.1100</td>\n",
       "      <td>1</td>\n",
       "      <td>0</td>\n",
       "    </tr>\n",
       "    <tr>\n",
       "      <th>6362618</th>\n",
       "      <td>743</td>\n",
       "      <td>TRANSFER</td>\n",
       "      <td>850002.5200</td>\n",
       "      <td>C1685995037</td>\n",
       "      <td>850002.5200</td>\n",
       "      <td>0.0000</td>\n",
       "      <td>C2080388513</td>\n",
       "      <td>0.0000</td>\n",
       "      <td>0.0000</td>\n",
       "      <td>1</td>\n",
       "      <td>0</td>\n",
       "    </tr>\n",
       "    <tr>\n",
       "      <th>6362619</th>\n",
       "      <td>743</td>\n",
       "      <td>CASH_OUT</td>\n",
       "      <td>850002.5200</td>\n",
       "      <td>C1280323807</td>\n",
       "      <td>850002.5200</td>\n",
       "      <td>0.0000</td>\n",
       "      <td>C873221189</td>\n",
       "      <td>6510099.1100</td>\n",
       "      <td>7360101.6300</td>\n",
       "      <td>1</td>\n",
       "      <td>0</td>\n",
       "    </tr>\n",
       "  </tbody>\n",
       "</table>\n",
       "<p>102688 rows × 11 columns</p>\n",
       "</div>"
      ],
      "text/plain": [
       "         step      type       amount     nameOrig  oldbalanceOrg  \\\n",
       "6259932   604  TRANSFER  714218.4800   C454938739    714218.4800   \n",
       "6259933   604  CASH_OUT  714218.4800  C1835708623    714218.4800   \n",
       "6259934   604  TRANSFER  277582.5300  C2144116571    277582.5300   \n",
       "6259935   604  CASH_OUT  277582.5300  C1512896686    277582.5300   \n",
       "6259936   604  TRANSFER 4672401.0400   C801580496   4672401.0400   \n",
       "...       ...       ...          ...          ...            ...   \n",
       "6362615   743  CASH_OUT  339682.1300   C786484425    339682.1300   \n",
       "6362616   743  TRANSFER 6311409.2800  C1529008245   6311409.2800   \n",
       "6362617   743  CASH_OUT 6311409.2800  C1162922333   6311409.2800   \n",
       "6362618   743  TRANSFER  850002.5200  C1685995037    850002.5200   \n",
       "6362619   743  CASH_OUT  850002.5200  C1280323807    850002.5200   \n",
       "\n",
       "         newbalanceOrig     nameDest  oldbalanceDest  newbalanceDest  isFraud  \\\n",
       "6259932          0.0000   C482986731          0.0000          0.0000        1   \n",
       "6259933          0.0000  C1881116283     106940.8300     821159.3100        1   \n",
       "6259934          0.0000   C570246252          0.0000          0.0000        1   \n",
       "6259935          0.0000   C731882373          0.0000     277582.5300        1   \n",
       "6259936          0.0000  C1917884973          0.0000          0.0000        1   \n",
       "...                 ...          ...             ...             ...      ...   \n",
       "6362615          0.0000   C776919290          0.0000     339682.1300        1   \n",
       "6362616          0.0000  C1881841831          0.0000          0.0000        1   \n",
       "6362617          0.0000  C1365125890      68488.8400    6379898.1100        1   \n",
       "6362618          0.0000  C2080388513          0.0000          0.0000        1   \n",
       "6362619          0.0000   C873221189    6510099.1100    7360101.6300        1   \n",
       "\n",
       "         isFlaggedFraud  \n",
       "6259932               0  \n",
       "6259933               0  \n",
       "6259934               0  \n",
       "6259935               0  \n",
       "6259936               0  \n",
       "...                 ...  \n",
       "6362615               0  \n",
       "6362616               0  \n",
       "6362617               0  \n",
       "6362618               0  \n",
       "6362619               0  \n",
       "\n",
       "[102688 rows x 11 columns]"
      ]
     },
     "execution_count": 44,
     "metadata": {},
     "output_type": "execute_result"
    }
   ],
   "source": [
    "df[df['step']>603.5]"
   ]
  },
  {
   "cell_type": "code",
   "execution_count": 45,
   "id": "9eb3f540-b4b9-46c2-a694-0bc1183d5845",
   "metadata": {},
   "outputs": [],
   "source": [
    "# # As per this record we can see around 102K outliers in 'step' feature.\n",
    "# But, other important features such as transaction amount and everything other are more \n",
    "# important features and should be taken in consideration while finding outliers. \n",
    "# So, we can't decide only on this basis as large no. of transactions is coming in outliers"
   ]
  },
  {
   "cell_type": "code",
   "execution_count": 46,
   "id": "d969b9dc-a3e9-4773-af8e-d2faa4bbd19e",
   "metadata": {},
   "outputs": [],
   "source": [
    "# Selecting useful features and removing features which are not so imp. in model training. \n",
    "# Let's trying to figure out coorelation between input features and target features\n",
    "# using heatmap\n",
    "\n",
    "# annot is set to True, so that the values of the correlation coefficients will be annotated, or displayed, on the heatmap."
   ]
  },
  {
   "cell_type": "code",
   "execution_count": 47,
   "id": "f6789ba4-68fd-40e0-a689-11270fcc738b",
   "metadata": {},
   "outputs": [
    {
     "data": {
      "image/png": "[encoded data removed]",
      "text/plain": [
       "<Figure size 640x480 with 2 Axes>"
      ]
     },
     "metadata": {},
     "output_type": "display_data"
    }
   ],
   "source": [
    "sns.heatmap(df[['step', 'amount', 'oldbalanceOrg', 'newbalanceOrig','oldbalanceDest',\n",
    "                'newbalanceDest', 'isFraud','isFlaggedFraud']].corr(), annot=True)\n",
    "plt.show()\n"
   ]
  },
  {
   "cell_type": "code",
   "execution_count": 48,
   "id": "c47a8ae2-7b59-4b31-a3a6-b1a24b253214",
   "metadata": {},
   "outputs": [],
   "source": [
    "#  obsv.: ('oldbalanceDest', 'newbalanceDest') and ('oldbalanceOrg', 'newbalanceOrg') indicates a high correlation (near to 1) or linear dependency between\n",
    "#  these pairs of features. And this could lead to issues in regression model.\n",
    "\n",
    "#  So, to fix this we need to remove one of the highly correated variables from each pair. \n",
    "\n",
    "#  Best option is to remove 'newbalanceOrig' and 'newbalanceDest', becuase they are less correlated with dependent\n",
    "#  feature ( \"isFraud\"), as compare to other two one."
   ]
  },
  {
   "cell_type": "code",
   "execution_count": 49,
   "id": "5f155fb5-3f5b-41e6-bcb6-22582a0d1d8c",
   "metadata": {},
   "outputs": [],
   "source": [
    "df = df.drop(['newbalanceOrig', 'newbalanceDest'], axis=1)"
   ]
  },
  {
   "cell_type": "code",
   "execution_count": 50,
   "id": "bb1663e6-9dcb-47a4-9a54-c56da70a4b79",
   "metadata": {},
   "outputs": [
    {
     "data": {
      "text/html": [
       "<div>\n",
       "<style scoped>\n",
       "    .dataframe tbody tr th:only-of-type {\n",
       "        vertical-align: middle;\n",
       "    }\n",
       "\n",
       "    .dataframe tbody tr th {\n",
       "        vertical-align: top;\n",
       "    }\n",
       "\n",
       "    .dataframe thead th {\n",
       "        text-align: right;\n",
       "    }\n",
       "</style>\n",
       "<table border=\"1\" class=\"dataframe\">\n",
       "  <thead>\n",
       "    <tr style=\"text-align: right;\">\n",
       "      <th></th>\n",
       "      <th>step</th>\n",
       "      <th>type</th>\n",
       "      <th>amount</th>\n",
       "      <th>nameOrig</th>\n",
       "      <th>oldbalanceOrg</th>\n",
       "      <th>nameDest</th>\n",
       "      <th>oldbalanceDest</th>\n",
       "      <th>isFraud</th>\n",
       "      <th>isFlaggedFraud</th>\n",
       "    </tr>\n",
       "  </thead>\n",
       "  <tbody>\n",
       "    <tr>\n",
       "      <th>0</th>\n",
       "      <td>1</td>\n",
       "      <td>PAYMENT</td>\n",
       "      <td>9839.6400</td>\n",
       "      <td>C1231006815</td>\n",
       "      <td>170136.0000</td>\n",
       "      <td>M1979787155</td>\n",
       "      <td>0.0000</td>\n",
       "      <td>0</td>\n",
       "      <td>0</td>\n",
       "    </tr>\n",
       "    <tr>\n",
       "      <th>1</th>\n",
       "      <td>1</td>\n",
       "      <td>PAYMENT</td>\n",
       "      <td>1864.2800</td>\n",
       "      <td>C1666544295</td>\n",
       "      <td>21249.0000</td>\n",
       "      <td>M2044282225</td>\n",
       "      <td>0.0000</td>\n",
       "      <td>0</td>\n",
       "      <td>0</td>\n",
       "    </tr>\n",
       "    <tr>\n",
       "      <th>2</th>\n",
       "      <td>1</td>\n",
       "      <td>TRANSFER</td>\n",
       "      <td>181.0000</td>\n",
       "      <td>C1305486145</td>\n",
       "      <td>181.0000</td>\n",
       "      <td>C553264065</td>\n",
       "      <td>0.0000</td>\n",
       "      <td>1</td>\n",
       "      <td>0</td>\n",
       "    </tr>\n",
       "    <tr>\n",
       "      <th>3</th>\n",
       "      <td>1</td>\n",
       "      <td>CASH_OUT</td>\n",
       "      <td>181.0000</td>\n",
       "      <td>C840083671</td>\n",
       "      <td>181.0000</td>\n",
       "      <td>C38997010</td>\n",
       "      <td>21182.0000</td>\n",
       "      <td>1</td>\n",
       "      <td>0</td>\n",
       "    </tr>\n",
       "    <tr>\n",
       "      <th>4</th>\n",
       "      <td>1</td>\n",
       "      <td>PAYMENT</td>\n",
       "      <td>11668.1400</td>\n",
       "      <td>C2048537720</td>\n",
       "      <td>41554.0000</td>\n",
       "      <td>M1230701703</td>\n",
       "      <td>0.0000</td>\n",
       "      <td>0</td>\n",
       "      <td>0</td>\n",
       "    </tr>\n",
       "  </tbody>\n",
       "</table>\n",
       "</div>"
      ],
      "text/plain": [
       "   step      type     amount     nameOrig  oldbalanceOrg     nameDest  \\\n",
       "0     1   PAYMENT  9839.6400  C1231006815    170136.0000  M1979787155   \n",
       "1     1   PAYMENT  1864.2800  C1666544295     21249.0000  M2044282225   \n",
       "2     1  TRANSFER   181.0000  C1305486145       181.0000   C553264065   \n",
       "3     1  CASH_OUT   181.0000   C840083671       181.0000    C38997010   \n",
       "4     1   PAYMENT 11668.1400  C2048537720     41554.0000  M1230701703   \n",
       "\n",
       "   oldbalanceDest  isFraud  isFlaggedFraud  \n",
       "0          0.0000        0               0  \n",
       "1          0.0000        0               0  \n",
       "2          0.0000        1               0  \n",
       "3      21182.0000        1               0  \n",
       "4          0.0000        0               0  "
      ]
     },
     "execution_count": 50,
     "metadata": {},
     "output_type": "execute_result"
    }
   ],
   "source": [
    "df.head()"
   ]
  },
  {
   "cell_type": "code",
   "execution_count": 51,
   "id": "2fd4e4e6-cccc-49ac-be84-f09f794722f2",
   "metadata": {},
   "outputs": [],
   "source": [
    "# Checking variations of data in features for feature selection "
   ]
  },
  {
   "cell_type": "code",
   "execution_count": 52,
   "id": "13644680",
   "metadata": {},
   "outputs": [
    {
     "data": {
      "text/plain": [
       "array([ True,  True,  True,  True, False])"
      ]
     },
     "execution_count": 52,
     "metadata": {},
     "output_type": "execute_result"
    }
   ],
   "source": [
    "from sklearn.feature_selection import VarianceThreshold\n",
    "# threshold = 0 (no variation)\n",
    "# threshold = 1 (small variation)\n",
    "Var_Thresh=VarianceThreshold(threshold=0)\n",
    "Var_Thresh.fit(df[['step','amount','oldbalanceOrg','oldbalanceDest','isFlaggedFraud']])\n",
    "Var_Thresh.get_support()\n",
    "#threshold = 1\n",
    "Var_Thresh=VarianceThreshold(threshold=1)\n",
    "Var_Thresh.fit(df[['step','amount','oldbalanceOrg','oldbalanceDest','isFlaggedFraud']])\n",
    "Var_Thresh.get_support()"
   ]
  },
  {
   "cell_type": "code",
   "execution_count": 53,
   "id": "4a5ddd51",
   "metadata": {},
   "outputs": [],
   "source": [
    "# NOTICE: The 'isFlaggedFraud' feature has low variation in data, but we cannot remove this column. It contains two values (0,1) crucial for identifying fraudulent transactions. Moreover, it exhibits a strong correlation with the target feature, making its removal an unfavorable option.\n"
   ]
  },
  {
   "cell_type": "code",
   "execution_count": 54,
   "id": "a648a155",
   "metadata": {},
   "outputs": [],
   "source": [
    "#checking if features are useful or not\n",
    "# NOTICED:- we have 3 categorical features \"type\" , \"nameOrig\" , \"nameDest\""
   ]
  },
  {
   "cell_type": "code",
   "execution_count": 55,
   "id": "9fb5e10b",
   "metadata": {},
   "outputs": [
    {
     "name": "stdout",
     "output_type": "stream",
     "text": [
      " type having these unique values :- \n",
      " ['PAYMENT' 'TRANSFER' 'CASH_OUT' 'DEBIT' 'CASH_IN']\n",
      "\n",
      "\n",
      " nameOrig having these unique values :- \n",
      " ['C1231006815' 'C1666544295' 'C1305486145' ... 'C1162922333' 'C1685995037'\n",
      " 'C1280323807']\n",
      "\n",
      "\n",
      " nameDest having these unique values :- \n",
      " ['M1979787155' 'M2044282225' 'C553264065' ... 'C1850423904' 'C1881841831'\n",
      " 'C2080388513']\n"
     ]
    }
   ],
   "source": [
    "print(\" type having these unique values :- \\n\",df[\"type\"].unique())\n",
    "print(\"\\n\\n nameOrig having these unique values :- \\n\",df[\"nameOrig\"].unique())\n",
    "print(\"\\n\\n nameDest having these unique values :- \\n\",df[\"nameDest\"].unique())\n",
    "# type having these unique values :-  ['PAYMENT' 'TRANSFER' 'CASH_OUT' 'DEBIT' 'CASH_IN']\n"
   ]
  },
  {
   "cell_type": "code",
   "execution_count": 56,
   "id": "6798f328",
   "metadata": {},
   "outputs": [
    {
     "data": {
      "text/plain": [
       "nameOrig\n",
       "C1902386530    3\n",
       "C363736674     3\n",
       "C545315117     3\n",
       "C724452879     3\n",
       "C1784010646    3\n",
       "              ..\n",
       "C98968405      1\n",
       "C720209255     1\n",
       "C1567523029    1\n",
       "C644777639     1\n",
       "C1280323807    1\n",
       "Name: count, Length: 6353307, dtype: int64"
      ]
     },
     "execution_count": 56,
     "metadata": {},
     "output_type": "execute_result"
    }
   ],
   "source": [
    "df['nameOrig'].value_counts()"
   ]
  },
  {
   "cell_type": "code",
   "execution_count": 57,
   "id": "14213029",
   "metadata": {},
   "outputs": [
    {
     "data": {
      "text/plain": [
       "nameDest\n",
       "C1286084959    113\n",
       "C985934102     109\n",
       "C665576141     105\n",
       "C2083562754    102\n",
       "C248609774     101\n",
       "              ... \n",
       "M1470027725      1\n",
       "M1330329251      1\n",
       "M1784358659      1\n",
       "M2081431099      1\n",
       "C2080388513      1\n",
       "Name: count, Length: 2722362, dtype: int64"
      ]
     },
     "execution_count": 57,
     "metadata": {},
     "output_type": "execute_result"
    }
   ],
   "source": [
    "df['nameDest'].value_counts()"
   ]
  },
  {
   "cell_type": "code",
   "execution_count": 58,
   "id": "1e4f3f76",
   "metadata": {},
   "outputs": [],
   "source": [
    "df=df.drop({'nameOrig','nameDest'},axis=1)"
   ]
  },
  {
   "cell_type": "code",
   "execution_count": 59,
   "id": "5d54a2c8",
   "metadata": {},
   "outputs": [
    {
     "data": {
      "text/html": [
       "<div>\n",
       "<style scoped>\n",
       "    .dataframe tbody tr th:only-of-type {\n",
       "        vertical-align: middle;\n",
       "    }\n",
       "\n",
       "    .dataframe tbody tr th {\n",
       "        vertical-align: top;\n",
       "    }\n",
       "\n",
       "    .dataframe thead th {\n",
       "        text-align: right;\n",
       "    }\n",
       "</style>\n",
       "<table border=\"1\" class=\"dataframe\">\n",
       "  <thead>\n",
       "    <tr style=\"text-align: right;\">\n",
       "      <th></th>\n",
       "      <th>step</th>\n",
       "      <th>type</th>\n",
       "      <th>amount</th>\n",
       "      <th>oldbalanceOrg</th>\n",
       "      <th>oldbalanceDest</th>\n",
       "      <th>isFraud</th>\n",
       "      <th>isFlaggedFraud</th>\n",
       "    </tr>\n",
       "  </thead>\n",
       "  <tbody>\n",
       "    <tr>\n",
       "      <th>0</th>\n",
       "      <td>1</td>\n",
       "      <td>PAYMENT</td>\n",
       "      <td>9839.6400</td>\n",
       "      <td>170136.0000</td>\n",
       "      <td>0.0000</td>\n",
       "      <td>0</td>\n",
       "      <td>0</td>\n",
       "    </tr>\n",
       "    <tr>\n",
       "      <th>1</th>\n",
       "      <td>1</td>\n",
       "      <td>PAYMENT</td>\n",
       "      <td>1864.2800</td>\n",
       "      <td>21249.0000</td>\n",
       "      <td>0.0000</td>\n",
       "      <td>0</td>\n",
       "      <td>0</td>\n",
       "    </tr>\n",
       "    <tr>\n",
       "      <th>2</th>\n",
       "      <td>1</td>\n",
       "      <td>TRANSFER</td>\n",
       "      <td>181.0000</td>\n",
       "      <td>181.0000</td>\n",
       "      <td>0.0000</td>\n",
       "      <td>1</td>\n",
       "      <td>0</td>\n",
       "    </tr>\n",
       "    <tr>\n",
       "      <th>3</th>\n",
       "      <td>1</td>\n",
       "      <td>CASH_OUT</td>\n",
       "      <td>181.0000</td>\n",
       "      <td>181.0000</td>\n",
       "      <td>21182.0000</td>\n",
       "      <td>1</td>\n",
       "      <td>0</td>\n",
       "    </tr>\n",
       "    <tr>\n",
       "      <th>4</th>\n",
       "      <td>1</td>\n",
       "      <td>PAYMENT</td>\n",
       "      <td>11668.1400</td>\n",
       "      <td>41554.0000</td>\n",
       "      <td>0.0000</td>\n",
       "      <td>0</td>\n",
       "      <td>0</td>\n",
       "    </tr>\n",
       "  </tbody>\n",
       "</table>\n",
       "</div>"
      ],
      "text/plain": [
       "   step      type     amount  oldbalanceOrg  oldbalanceDest  isFraud  \\\n",
       "0     1   PAYMENT  9839.6400    170136.0000          0.0000        0   \n",
       "1     1   PAYMENT  1864.2800     21249.0000          0.0000        0   \n",
       "2     1  TRANSFER   181.0000       181.0000          0.0000        1   \n",
       "3     1  CASH_OUT   181.0000       181.0000      21182.0000        1   \n",
       "4     1   PAYMENT 11668.1400     41554.0000          0.0000        0   \n",
       "\n",
       "   isFlaggedFraud  \n",
       "0               0  \n",
       "1               0  \n",
       "2               0  \n",
       "3               0  \n",
       "4               0  "
      ]
     },
     "execution_count": 59,
     "metadata": {},
     "output_type": "execute_result"
    }
   ],
   "source": [
    "df.head()"
   ]
  },
  {
   "cell_type": "code",
   "execution_count": 60,
   "id": "a8acb568",
   "metadata": {},
   "outputs": [
    {
     "data": {
      "text/plain": [
       "array(['PAYMENT', 'TRANSFER', 'CASH_OUT', 'DEBIT', 'CASH_IN'],\n",
       "      dtype=object)"
      ]
     },
     "execution_count": 60,
     "metadata": {},
     "output_type": "execute_result"
    }
   ],
   "source": [
    "# feature encoding\n",
    "df[\"type\"].unique()"
   ]
  },
  {
   "cell_type": "code",
   "execution_count": 61,
   "id": "f714ea26",
   "metadata": {},
   "outputs": [
    {
     "data": {
      "text/plain": [
       "type\n",
       "CASH_OUT    2237500\n",
       "PAYMENT     2151495\n",
       "CASH_IN     1399284\n",
       "TRANSFER     532909\n",
       "DEBIT         41432\n",
       "Name: count, dtype: int64"
      ]
     },
     "execution_count": 61,
     "metadata": {},
     "output_type": "execute_result"
    }
   ],
   "source": [
    "df[\"type\"].value_counts()"
   ]
  },
  {
   "cell_type": "code",
   "execution_count": 62,
   "id": "b5487de8",
   "metadata": {},
   "outputs": [],
   "source": [
    "df['type']=df['type'].map({'CASH_OUT':5, 'PAYMENT':4,'CASH_IN':3,'TRANSFER':2,'DEBIT':1})"
   ]
  },
  {
   "cell_type": "code",
   "execution_count": 63,
   "id": "504a0f8f",
   "metadata": {},
   "outputs": [
    {
     "data": {
      "text/html": [
       "<div>\n",
       "<style scoped>\n",
       "    .dataframe tbody tr th:only-of-type {\n",
       "        vertical-align: middle;\n",
       "    }\n",
       "\n",
       "    .dataframe tbody tr th {\n",
       "        vertical-align: top;\n",
       "    }\n",
       "\n",
       "    .dataframe thead th {\n",
       "        text-align: right;\n",
       "    }\n",
       "</style>\n",
       "<table border=\"1\" class=\"dataframe\">\n",
       "  <thead>\n",
       "    <tr style=\"text-align: right;\">\n",
       "      <th></th>\n",
       "      <th>step</th>\n",
       "      <th>type</th>\n",
       "      <th>amount</th>\n",
       "      <th>oldbalanceOrg</th>\n",
       "      <th>oldbalanceDest</th>\n",
       "      <th>isFraud</th>\n",
       "      <th>isFlaggedFraud</th>\n",
       "    </tr>\n",
       "  </thead>\n",
       "  <tbody>\n",
       "    <tr>\n",
       "      <th>0</th>\n",
       "      <td>1</td>\n",
       "      <td>4</td>\n",
       "      <td>9839.6400</td>\n",
       "      <td>170136.0000</td>\n",
       "      <td>0.0000</td>\n",
       "      <td>0</td>\n",
       "      <td>0</td>\n",
       "    </tr>\n",
       "    <tr>\n",
       "      <th>1</th>\n",
       "      <td>1</td>\n",
       "      <td>4</td>\n",
       "      <td>1864.2800</td>\n",
       "      <td>21249.0000</td>\n",
       "      <td>0.0000</td>\n",
       "      <td>0</td>\n",
       "      <td>0</td>\n",
       "    </tr>\n",
       "    <tr>\n",
       "      <th>2</th>\n",
       "      <td>1</td>\n",
       "      <td>2</td>\n",
       "      <td>181.0000</td>\n",
       "      <td>181.0000</td>\n",
       "      <td>0.0000</td>\n",
       "      <td>1</td>\n",
       "      <td>0</td>\n",
       "    </tr>\n",
       "    <tr>\n",
       "      <th>3</th>\n",
       "      <td>1</td>\n",
       "      <td>5</td>\n",
       "      <td>181.0000</td>\n",
       "      <td>181.0000</td>\n",
       "      <td>21182.0000</td>\n",
       "      <td>1</td>\n",
       "      <td>0</td>\n",
       "    </tr>\n",
       "    <tr>\n",
       "      <th>4</th>\n",
       "      <td>1</td>\n",
       "      <td>4</td>\n",
       "      <td>11668.1400</td>\n",
       "      <td>41554.0000</td>\n",
       "      <td>0.0000</td>\n",
       "      <td>0</td>\n",
       "      <td>0</td>\n",
       "    </tr>\n",
       "  </tbody>\n",
       "</table>\n",
       "</div>"
      ],
      "text/plain": [
       "   step  type     amount  oldbalanceOrg  oldbalanceDest  isFraud  \\\n",
       "0     1     4  9839.6400    170136.0000          0.0000        0   \n",
       "1     1     4  1864.2800     21249.0000          0.0000        0   \n",
       "2     1     2   181.0000       181.0000          0.0000        1   \n",
       "3     1     5   181.0000       181.0000      21182.0000        1   \n",
       "4     1     4 11668.1400     41554.0000          0.0000        0   \n",
       "\n",
       "   isFlaggedFraud  \n",
       "0               0  \n",
       "1               0  \n",
       "2               0  \n",
       "3               0  \n",
       "4               0  "
      ]
     },
     "execution_count": 63,
     "metadata": {},
     "output_type": "execute_result"
    }
   ],
   "source": [
    "df.head()"
   ]
  },
  {
   "cell_type": "code",
   "execution_count": 64,
   "id": "597eb50c",
   "metadata": {},
   "outputs": [
    {
     "data": {
      "text/plain": [
       "array([4, 2, 5, 1, 3], dtype=int64)"
      ]
     },
     "execution_count": 64,
     "metadata": {},
     "output_type": "execute_result"
    }
   ],
   "source": [
    "df[\"type\"].unique()"
   ]
  },
  {
   "cell_type": "code",
   "execution_count": 65,
   "id": "7a2520d2",
   "metadata": {},
   "outputs": [
    {
     "data": {
      "text/plain": [
       "type\n",
       "5    2237500\n",
       "4    2151495\n",
       "3    1399284\n",
       "2     532909\n",
       "1      41432\n",
       "Name: count, dtype: int64"
      ]
     },
     "execution_count": 65,
     "metadata": {},
     "output_type": "execute_result"
    }
   ],
   "source": [
    "df[\"type\"].value_counts()"
   ]
  },
  {
   "cell_type": "code",
   "execution_count": 66,
   "id": "b45c1889",
   "metadata": {},
   "outputs": [
    {
     "data": {
      "text/plain": [
       "isFraud\n",
       "0    6354407\n",
       "1       8213\n",
       "Name: count, dtype: int64"
      ]
     },
     "execution_count": 66,
     "metadata": {},
     "output_type": "execute_result"
    }
   ],
   "source": [
    "#handling unbalance data\n",
    "df[\"isFraud\"].value_counts()"
   ]
  },
  {
   "cell_type": "code",
   "execution_count": 67,
   "id": "2ba22927",
   "metadata": {},
   "outputs": [
    {
     "data": {
      "text/html": [
       "<div>\n",
       "<style scoped>\n",
       "    .dataframe tbody tr th:only-of-type {\n",
       "        vertical-align: middle;\n",
       "    }\n",
       "\n",
       "    .dataframe tbody tr th {\n",
       "        vertical-align: top;\n",
       "    }\n",
       "\n",
       "    .dataframe thead th {\n",
       "        text-align: right;\n",
       "    }\n",
       "</style>\n",
       "<table border=\"1\" class=\"dataframe\">\n",
       "  <thead>\n",
       "    <tr style=\"text-align: right;\">\n",
       "      <th></th>\n",
       "      <th>step</th>\n",
       "      <th>type</th>\n",
       "      <th>amount</th>\n",
       "      <th>oldbalanceOrg</th>\n",
       "      <th>oldbalanceDest</th>\n",
       "      <th>isFraud</th>\n",
       "      <th>isFlaggedFraud</th>\n",
       "    </tr>\n",
       "  </thead>\n",
       "  <tbody>\n",
       "    <tr>\n",
       "      <th>0</th>\n",
       "      <td>1</td>\n",
       "      <td>4</td>\n",
       "      <td>9839.6400</td>\n",
       "      <td>170136.0000</td>\n",
       "      <td>0.0000</td>\n",
       "      <td>0</td>\n",
       "      <td>0</td>\n",
       "    </tr>\n",
       "    <tr>\n",
       "      <th>1</th>\n",
       "      <td>1</td>\n",
       "      <td>4</td>\n",
       "      <td>1864.2800</td>\n",
       "      <td>21249.0000</td>\n",
       "      <td>0.0000</td>\n",
       "      <td>0</td>\n",
       "      <td>0</td>\n",
       "    </tr>\n",
       "    <tr>\n",
       "      <th>4</th>\n",
       "      <td>1</td>\n",
       "      <td>4</td>\n",
       "      <td>11668.1400</td>\n",
       "      <td>41554.0000</td>\n",
       "      <td>0.0000</td>\n",
       "      <td>0</td>\n",
       "      <td>0</td>\n",
       "    </tr>\n",
       "    <tr>\n",
       "      <th>5</th>\n",
       "      <td>1</td>\n",
       "      <td>4</td>\n",
       "      <td>7817.7100</td>\n",
       "      <td>53860.0000</td>\n",
       "      <td>0.0000</td>\n",
       "      <td>0</td>\n",
       "      <td>0</td>\n",
       "    </tr>\n",
       "    <tr>\n",
       "      <th>6</th>\n",
       "      <td>1</td>\n",
       "      <td>4</td>\n",
       "      <td>7107.7700</td>\n",
       "      <td>183195.0000</td>\n",
       "      <td>0.0000</td>\n",
       "      <td>0</td>\n",
       "      <td>0</td>\n",
       "    </tr>\n",
       "  </tbody>\n",
       "</table>\n",
       "</div>"
      ],
      "text/plain": [
       "   step  type     amount  oldbalanceOrg  oldbalanceDest  isFraud  \\\n",
       "0     1     4  9839.6400    170136.0000          0.0000        0   \n",
       "1     1     4  1864.2800     21249.0000          0.0000        0   \n",
       "4     1     4 11668.1400     41554.0000          0.0000        0   \n",
       "5     1     4  7817.7100     53860.0000          0.0000        0   \n",
       "6     1     4  7107.7700    183195.0000          0.0000        0   \n",
       "\n",
       "   isFlaggedFraud  \n",
       "0               0  \n",
       "1               0  \n",
       "4               0  \n",
       "5               0  \n",
       "6               0  "
      ]
     },
     "execution_count": 67,
     "metadata": {},
     "output_type": "execute_result"
    }
   ],
   "source": [
    "# we are creating 2 DataFrame ,one contain fraud transaction and another one contain genuine transaction\n",
    "normal_transaction=df[df['isFraud']==0]\n",
    "fraud_transaction=df[df['isFraud']==1]\n",
    "normal_transaction.head()"
   ]
  },
  {
   "cell_type": "code",
   "execution_count": 68,
   "id": "a46f7759",
   "metadata": {},
   "outputs": [
    {
     "data": {
      "text/html": [
       "<div>\n",
       "<style scoped>\n",
       "    .dataframe tbody tr th:only-of-type {\n",
       "        vertical-align: middle;\n",
       "    }\n",
       "\n",
       "    .dataframe tbody tr th {\n",
       "        vertical-align: top;\n",
       "    }\n",
       "\n",
       "    .dataframe thead th {\n",
       "        text-align: right;\n",
       "    }\n",
       "</style>\n",
       "<table border=\"1\" class=\"dataframe\">\n",
       "  <thead>\n",
       "    <tr style=\"text-align: right;\">\n",
       "      <th></th>\n",
       "      <th>step</th>\n",
       "      <th>type</th>\n",
       "      <th>amount</th>\n",
       "      <th>oldbalanceOrg</th>\n",
       "      <th>oldbalanceDest</th>\n",
       "      <th>isFraud</th>\n",
       "      <th>isFlaggedFraud</th>\n",
       "    </tr>\n",
       "  </thead>\n",
       "  <tbody>\n",
       "    <tr>\n",
       "      <th>2</th>\n",
       "      <td>1</td>\n",
       "      <td>2</td>\n",
       "      <td>181.0000</td>\n",
       "      <td>181.0000</td>\n",
       "      <td>0.0000</td>\n",
       "      <td>1</td>\n",
       "      <td>0</td>\n",
       "    </tr>\n",
       "    <tr>\n",
       "      <th>3</th>\n",
       "      <td>1</td>\n",
       "      <td>5</td>\n",
       "      <td>181.0000</td>\n",
       "      <td>181.0000</td>\n",
       "      <td>21182.0000</td>\n",
       "      <td>1</td>\n",
       "      <td>0</td>\n",
       "    </tr>\n",
       "    <tr>\n",
       "      <th>251</th>\n",
       "      <td>1</td>\n",
       "      <td>2</td>\n",
       "      <td>2806.0000</td>\n",
       "      <td>2806.0000</td>\n",
       "      <td>0.0000</td>\n",
       "      <td>1</td>\n",
       "      <td>0</td>\n",
       "    </tr>\n",
       "    <tr>\n",
       "      <th>252</th>\n",
       "      <td>1</td>\n",
       "      <td>5</td>\n",
       "      <td>2806.0000</td>\n",
       "      <td>2806.0000</td>\n",
       "      <td>26202.0000</td>\n",
       "      <td>1</td>\n",
       "      <td>0</td>\n",
       "    </tr>\n",
       "    <tr>\n",
       "      <th>680</th>\n",
       "      <td>1</td>\n",
       "      <td>2</td>\n",
       "      <td>20128.0000</td>\n",
       "      <td>20128.0000</td>\n",
       "      <td>0.0000</td>\n",
       "      <td>1</td>\n",
       "      <td>0</td>\n",
       "    </tr>\n",
       "  </tbody>\n",
       "</table>\n",
       "</div>"
      ],
      "text/plain": [
       "     step  type     amount  oldbalanceOrg  oldbalanceDest  isFraud  \\\n",
       "2       1     2   181.0000       181.0000          0.0000        1   \n",
       "3       1     5   181.0000       181.0000      21182.0000        1   \n",
       "251     1     2  2806.0000      2806.0000          0.0000        1   \n",
       "252     1     5  2806.0000      2806.0000      26202.0000        1   \n",
       "680     1     2 20128.0000     20128.0000          0.0000        1   \n",
       "\n",
       "     isFlaggedFraud  \n",
       "2                 0  \n",
       "3                 0  \n",
       "251               0  \n",
       "252               0  \n",
       "680               0  "
      ]
     },
     "execution_count": 68,
     "metadata": {},
     "output_type": "execute_result"
    }
   ],
   "source": [
    "fraud_transaction.head()"
   ]
  },
  {
   "cell_type": "code",
   "execution_count": 69,
   "id": "0c39d236",
   "metadata": {},
   "outputs": [
    {
     "name": "stdout",
     "output_type": "stream",
     "text": [
      "(6354407, 7)\n",
      "(8213, 7)\n"
     ]
    }
   ],
   "source": [
    "print(normal_transaction.shape)\n",
    "print(fraud_transaction.shape)"
   ]
  },
  {
   "cell_type": "code",
   "execution_count": 70,
   "id": "21ea978c",
   "metadata": {},
   "outputs": [
    {
     "name": "stdout",
     "output_type": "stream",
     "text": [
      "(8213, 7)\n",
      "(8213, 7)\n"
     ]
    }
   ],
   "source": [
    "# taking random 8213 records from normal transaction\n",
    "normal_transaction=normal_transaction.sample(n=8213)\n",
    "# here we have 50% fraud transactions and 50% normal transactions.\n",
    "print(normal_transaction.shape)\n",
    "print(fraud_transaction.shape)"
   ]
  },
  {
   "cell_type": "code",
   "execution_count": 71,
   "id": "fc41df65",
   "metadata": {},
   "outputs": [
    {
     "data": {
      "text/plain": [
       "count       8213.0000\n",
       "mean      169304.0258\n",
       "std       403927.3737\n",
       "min            7.8200\n",
       "25%        13255.1300\n",
       "50%        77248.2800\n",
       "75%       209632.2600\n",
       "max     14065264.1300\n",
       "Name: amount, dtype: float64"
      ]
     },
     "execution_count": 71,
     "metadata": {},
     "output_type": "execute_result"
    }
   ],
   "source": [
    "normal_transaction['amount'].describe()\n",
    "# mean of normal transaction is less than fraud transaction"
   ]
  },
  {
   "cell_type": "code",
   "execution_count": 72,
   "id": "a7277caa",
   "metadata": {},
   "outputs": [
    {
     "data": {
      "text/plain": [
       "count       8213.0000\n",
       "mean     1467967.2991\n",
       "std      2404252.9472\n",
       "min            0.0000\n",
       "25%       127091.3300\n",
       "50%       441423.4400\n",
       "75%      1517771.4800\n",
       "max     10000000.0000\n",
       "Name: amount, dtype: float64"
      ]
     },
     "execution_count": 72,
     "metadata": {},
     "output_type": "execute_result"
    }
   ],
   "source": [
    "fraud_transaction['amount'].describe()"
   ]
  },
  {
   "cell_type": "code",
   "execution_count": 73,
   "id": "3d2c6270",
   "metadata": {},
   "outputs": [],
   "source": [
    "#mean of fraud transaction is higher. "
   ]
  },
  {
   "cell_type": "code",
   "execution_count": 74,
   "id": "ae63a53d",
   "metadata": {},
   "outputs": [
    {
     "data": {
      "text/html": [
       "<div>\n",
       "<style scoped>\n",
       "    .dataframe tbody tr th:only-of-type {\n",
       "        vertical-align: middle;\n",
       "    }\n",
       "\n",
       "    .dataframe tbody tr th {\n",
       "        vertical-align: top;\n",
       "    }\n",
       "\n",
       "    .dataframe thead th {\n",
       "        text-align: right;\n",
       "    }\n",
       "</style>\n",
       "<table border=\"1\" class=\"dataframe\">\n",
       "  <thead>\n",
       "    <tr style=\"text-align: right;\">\n",
       "      <th></th>\n",
       "      <th>step</th>\n",
       "      <th>type</th>\n",
       "      <th>amount</th>\n",
       "      <th>oldbalanceOrg</th>\n",
       "      <th>oldbalanceDest</th>\n",
       "      <th>isFraud</th>\n",
       "      <th>isFlaggedFraud</th>\n",
       "    </tr>\n",
       "  </thead>\n",
       "  <tbody>\n",
       "    <tr>\n",
       "      <th>472918</th>\n",
       "      <td>19</td>\n",
       "      <td>5</td>\n",
       "      <td>231577.7400</td>\n",
       "      <td>7080.0000</td>\n",
       "      <td>998943.8700</td>\n",
       "      <td>0</td>\n",
       "      <td>0</td>\n",
       "    </tr>\n",
       "    <tr>\n",
       "      <th>6105819</th>\n",
       "      <td>525</td>\n",
       "      <td>5</td>\n",
       "      <td>17189.3700</td>\n",
       "      <td>0.0000</td>\n",
       "      <td>1108449.4700</td>\n",
       "      <td>0</td>\n",
       "      <td>0</td>\n",
       "    </tr>\n",
       "    <tr>\n",
       "      <th>165381</th>\n",
       "      <td>12</td>\n",
       "      <td>4</td>\n",
       "      <td>7410.7200</td>\n",
       "      <td>0.0000</td>\n",
       "      <td>0.0000</td>\n",
       "      <td>0</td>\n",
       "      <td>0</td>\n",
       "    </tr>\n",
       "    <tr>\n",
       "      <th>4814916</th>\n",
       "      <td>346</td>\n",
       "      <td>5</td>\n",
       "      <td>118046.3900</td>\n",
       "      <td>70420.0000</td>\n",
       "      <td>89633.8600</td>\n",
       "      <td>0</td>\n",
       "      <td>0</td>\n",
       "    </tr>\n",
       "    <tr>\n",
       "      <th>2185320</th>\n",
       "      <td>185</td>\n",
       "      <td>4</td>\n",
       "      <td>7171.3100</td>\n",
       "      <td>13983.0000</td>\n",
       "      <td>0.0000</td>\n",
       "      <td>0</td>\n",
       "      <td>0</td>\n",
       "    </tr>\n",
       "  </tbody>\n",
       "</table>\n",
       "</div>"
      ],
      "text/plain": [
       "         step  type      amount  oldbalanceOrg  oldbalanceDest  isFraud  \\\n",
       "472918     19     5 231577.7400      7080.0000     998943.8700        0   \n",
       "6105819   525     5  17189.3700         0.0000    1108449.4700        0   \n",
       "165381     12     4   7410.7200         0.0000          0.0000        0   \n",
       "4814916   346     5 118046.3900     70420.0000      89633.8600        0   \n",
       "2185320   185     4   7171.3100     13983.0000          0.0000        0   \n",
       "\n",
       "         isFlaggedFraud  \n",
       "472918                0  \n",
       "6105819               0  \n",
       "165381                0  \n",
       "4814916               0  \n",
       "2185320               0  "
      ]
     },
     "execution_count": 74,
     "metadata": {},
     "output_type": "execute_result"
    }
   ],
   "source": [
    "new_df=pd.concat([normal_transaction,fraud_transaction], axis=0)\n",
    "new_df.head()\n",
    "# Concatenating these two datasets along rows (axis=0) to address the issue of an unbalanced dataset.\n"
   ]
  },
  {
   "cell_type": "code",
   "execution_count": 75,
   "id": "9b66d3ef",
   "metadata": {},
   "outputs": [
    {
     "data": {
      "text/html": [
       "<div>\n",
       "<style scoped>\n",
       "    .dataframe tbody tr th:only-of-type {\n",
       "        vertical-align: middle;\n",
       "    }\n",
       "\n",
       "    .dataframe tbody tr th {\n",
       "        vertical-align: top;\n",
       "    }\n",
       "\n",
       "    .dataframe thead th {\n",
       "        text-align: right;\n",
       "    }\n",
       "</style>\n",
       "<table border=\"1\" class=\"dataframe\">\n",
       "  <thead>\n",
       "    <tr style=\"text-align: right;\">\n",
       "      <th></th>\n",
       "      <th>step</th>\n",
       "      <th>type</th>\n",
       "      <th>amount</th>\n",
       "      <th>oldbalanceOrg</th>\n",
       "      <th>oldbalanceDest</th>\n",
       "      <th>isFraud</th>\n",
       "      <th>isFlaggedFraud</th>\n",
       "    </tr>\n",
       "  </thead>\n",
       "  <tbody>\n",
       "    <tr>\n",
       "      <th>6362615</th>\n",
       "      <td>743</td>\n",
       "      <td>5</td>\n",
       "      <td>339682.1300</td>\n",
       "      <td>339682.1300</td>\n",
       "      <td>0.0000</td>\n",
       "      <td>1</td>\n",
       "      <td>0</td>\n",
       "    </tr>\n",
       "    <tr>\n",
       "      <th>6362616</th>\n",
       "      <td>743</td>\n",
       "      <td>2</td>\n",
       "      <td>6311409.2800</td>\n",
       "      <td>6311409.2800</td>\n",
       "      <td>0.0000</td>\n",
       "      <td>1</td>\n",
       "      <td>0</td>\n",
       "    </tr>\n",
       "    <tr>\n",
       "      <th>6362617</th>\n",
       "      <td>743</td>\n",
       "      <td>5</td>\n",
       "      <td>6311409.2800</td>\n",
       "      <td>6311409.2800</td>\n",
       "      <td>68488.8400</td>\n",
       "      <td>1</td>\n",
       "      <td>0</td>\n",
       "    </tr>\n",
       "    <tr>\n",
       "      <th>6362618</th>\n",
       "      <td>743</td>\n",
       "      <td>2</td>\n",
       "      <td>850002.5200</td>\n",
       "      <td>850002.5200</td>\n",
       "      <td>0.0000</td>\n",
       "      <td>1</td>\n",
       "      <td>0</td>\n",
       "    </tr>\n",
       "    <tr>\n",
       "      <th>6362619</th>\n",
       "      <td>743</td>\n",
       "      <td>5</td>\n",
       "      <td>850002.5200</td>\n",
       "      <td>850002.5200</td>\n",
       "      <td>6510099.1100</td>\n",
       "      <td>1</td>\n",
       "      <td>0</td>\n",
       "    </tr>\n",
       "  </tbody>\n",
       "</table>\n",
       "</div>"
      ],
      "text/plain": [
       "         step  type       amount  oldbalanceOrg  oldbalanceDest  isFraud  \\\n",
       "6362615   743     5  339682.1300    339682.1300          0.0000        1   \n",
       "6362616   743     2 6311409.2800   6311409.2800          0.0000        1   \n",
       "6362617   743     5 6311409.2800   6311409.2800      68488.8400        1   \n",
       "6362618   743     2  850002.5200    850002.5200          0.0000        1   \n",
       "6362619   743     5  850002.5200    850002.5200    6510099.1100        1   \n",
       "\n",
       "         isFlaggedFraud  \n",
       "6362615               0  \n",
       "6362616               0  \n",
       "6362617               0  \n",
       "6362618               0  \n",
       "6362619               0  "
      ]
     },
     "execution_count": 75,
     "metadata": {},
     "output_type": "execute_result"
    }
   ],
   "source": [
    "new_df.tail()\n"
   ]
  },
  {
   "cell_type": "code",
   "execution_count": 76,
   "id": "38724788",
   "metadata": {},
   "outputs": [],
   "source": [
    "# Here fraud transaction dataset is added to normal transaction dataset"
   ]
  },
  {
   "cell_type": "code",
   "execution_count": 77,
   "id": "52814361",
   "metadata": {},
   "outputs": [
    {
     "data": {
      "text/plain": [
       "(16426, 7)"
      ]
     },
     "execution_count": 77,
     "metadata": {},
     "output_type": "execute_result"
    }
   ],
   "source": [
    "new_df.shape"
   ]
  },
  {
   "cell_type": "code",
   "execution_count": 78,
   "id": "e4fce320",
   "metadata": {},
   "outputs": [
    {
     "data": {
      "text/plain": [
       "(16426,)"
      ]
     },
     "execution_count": 78,
     "metadata": {},
     "output_type": "execute_result"
    }
   ],
   "source": [
    "# train-test split\n",
    "\n",
    "# independent feature\n",
    "X=new_df.drop(\"isFraud\",axis=1)\n",
    "# dependent feature\n",
    "y=new_df[\"isFraud\"]\n",
    "\n",
    "X.shape\n",
    "y.shape"
   ]
  },
  {
   "cell_type": "code",
   "execution_count": 79,
   "id": "2953104c",
   "metadata": {},
   "outputs": [
    {
     "name": "stdout",
     "output_type": "stream",
     "text": [
      "x-train :-  (13140, 6)\n",
      "x-test :-   (3286, 6)\n",
      "y-train :-  (13140,)\n",
      "y-test :-   (3286,)\n"
     ]
    }
   ],
   "source": [
    "from sklearn.model_selection import train_test_split\n",
    "# Using 'stratify' ensures even distribution of data values, promoting balanced representation in the dataset.\n",
    "\n",
    "x_train,x_test,y_train,y_test=train_test_split(X , y , test_size=0.2, stratify=y , random_state=0)\n",
    "print(\"x-train :- \", x_train.shape)\n",
    "print(\"x-test :-  \",  x_test.shape)\n",
    "print(\"y-train :- \", y_train.shape)\n",
    "print(\"y-test :-  \",  y_test.shape)"
   ]
  },
  {
   "cell_type": "code",
   "execution_count": 80,
   "id": "4588aa3d",
   "metadata": {},
   "outputs": [
    {
     "data": {
      "text/plain": [
       "isFraud\n",
       "0    1643\n",
       "1    1643\n",
       "Name: count, dtype: int64"
      ]
     },
     "execution_count": 80,
     "metadata": {},
     "output_type": "execute_result"
    }
   ],
   "source": [
    "y_test.value_counts()"
   ]
  },
  {
   "cell_type": "code",
   "execution_count": 81,
   "id": "a0e0d0aa",
   "metadata": {},
   "outputs": [
    {
     "data": {
      "text/plain": [
       "isFraud\n",
       "1    6570\n",
       "0    6570\n",
       "Name: count, dtype: int64"
      ]
     },
     "execution_count": 81,
     "metadata": {},
     "output_type": "execute_result"
    }
   ],
   "source": [
    "y_train.value_counts()"
   ]
  },
  {
   "cell_type": "code",
   "execution_count": 82,
   "id": "87e5d127",
   "metadata": {},
   "outputs": [],
   "source": [
    "# Now isFraud values are equally distributed."
   ]
  },
  {
   "cell_type": "code",
   "execution_count": 83,
   "id": "66da30dc",
   "metadata": {},
   "outputs": [
    {
     "data": {
      "text/html": [
       "<style>#sk-container-id-1 {color: black;}#sk-container-id-1 pre{padding: 0;}#sk-container-id-1 div.sk-toggleable {background-color: white;}#sk-container-id-1 label.sk-toggleable__label {cursor: pointer;display: block;width: 100%;margin-bottom: 0;padding: 0.3em;box-sizing: border-box;text-align: center;}#sk-container-id-1 label.sk-toggleable__label-arrow:before {content: \"▸\";float: left;margin-right: 0.25em;color: #696969;}#sk-container-id-1 label.sk-toggleable__label-arrow:hover:before {color: black;}#sk-container-id-1 div.sk-estimator:hover label.sk-toggleable__label-arrow:before {color: black;}#sk-container-id-1 div.sk-toggleable__content {max-height: 0;max-width: 0;overflow: hidden;text-align: left;background-color: #f0f8ff;}#sk-container-id-1 div.sk-toggleable__content pre {margin: 0.2em;color: black;border-radius: 0.25em;background-color: #f0f8ff;}#sk-container-id-1 input.sk-toggleable__control:checked~div.sk-toggleable__content {max-height: 200px;max-width: 100%;overflow: auto;}#sk-container-id-1 input.sk-toggleable__control:checked~label.sk-toggleable__label-arrow:before {content: \"▾\";}#sk-container-id-1 div.sk-estimator input.sk-toggleable__control:checked~label.sk-toggleable__label {background-color: #d4ebff;}#sk-container-id-1 div.sk-label input.sk-toggleable__control:checked~label.sk-toggleable__label {background-color: #d4ebff;}#sk-container-id-1 input.sk-hidden--visually {border: 0;clip: rect(1px 1px 1px 1px);clip: rect(1px, 1px, 1px, 1px);height: 1px;margin: -1px;overflow: hidden;padding: 0;position: absolute;width: 1px;}#sk-container-id-1 div.sk-estimator {font-family: monospace;background-color: #f0f8ff;border: 1px dotted black;border-radius: 0.25em;box-sizing: border-box;margin-bottom: 0.5em;}#sk-container-id-1 div.sk-estimator:hover {background-color: #d4ebff;}#sk-container-id-1 div.sk-parallel-item::after {content: \"\";width: 100%;border-bottom: 1px solid gray;flex-grow: 1;}#sk-container-id-1 div.sk-label:hover label.sk-toggleable__label {background-color: #d4ebff;}#sk-container-id-1 div.sk-serial::before {content: \"\";position: absolute;border-left: 1px solid gray;box-sizing: border-box;top: 0;bottom: 0;left: 50%;z-index: 0;}#sk-container-id-1 div.sk-serial {display: flex;flex-direction: column;align-items: center;background-color: white;padding-right: 0.2em;padding-left: 0.2em;position: relative;}#sk-container-id-1 div.sk-item {position: relative;z-index: 1;}#sk-container-id-1 div.sk-parallel {display: flex;align-items: stretch;justify-content: center;background-color: white;position: relative;}#sk-container-id-1 div.sk-item::before, #sk-container-id-1 div.sk-parallel-item::before {content: \"\";position: absolute;border-left: 1px solid gray;box-sizing: border-box;top: 0;bottom: 0;left: 50%;z-index: -1;}#sk-container-id-1 div.sk-parallel-item {display: flex;flex-direction: column;z-index: 1;position: relative;background-color: white;}#sk-container-id-1 div.sk-parallel-item:first-child::after {align-self: flex-end;width: 50%;}#sk-container-id-1 div.sk-parallel-item:last-child::after {align-self: flex-start;width: 50%;}#sk-container-id-1 div.sk-parallel-item:only-child::after {width: 0;}#sk-container-id-1 div.sk-dashed-wrapped {border: 1px dashed gray;margin: 0 0.4em 0.5em 0.4em;box-sizing: border-box;padding-bottom: 0.4em;background-color: white;}#sk-container-id-1 div.sk-label label {font-family: monospace;font-weight: bold;display: inline-block;line-height: 1.2em;}#sk-container-id-1 div.sk-label-container {text-align: center;}#sk-container-id-1 div.sk-container {/* jupyter's `normalize.less` sets `[hidden] { display: none; }` but bootstrap.min.css set `[hidden] { display: none !important; }` so we also need the `!important` here to be able to override the default hidden behavior on the sphinx rendered scikit-learn.org. See: https://github.com/scikit-learn/scikit-learn/issues/21755 */display: inline-block !important;position: relative;}#sk-container-id-1 div.sk-text-repr-fallback {display: none;}</style><div id=\"sk-container-id-1\" class=\"sk-top-container\"><div class=\"sk-text-repr-fallback\"><pre>StandardScaler()</pre><b>In a Jupyter environment, please rerun this cell to show the HTML representation or trust the notebook. <br />On GitHub, the HTML representation is unable to render, please try loading this page with nbviewer.org.</b></div><div class=\"sk-container\" hidden><div class=\"sk-item\"><div class=\"sk-estimator sk-toggleable\"><input class=\"sk-toggleable__control sk-hidden--visually\" id=\"sk-estimator-id-1\" type=\"checkbox\" checked><label for=\"sk-estimator-id-1\" class=\"sk-toggleable__label sk-toggleable__label-arrow\">StandardScaler</label><div class=\"sk-toggleable__content\"><pre>StandardScaler()</pre></div></div></div></div></div>"
      ],
      "text/plain": [
       "StandardScaler()"
      ]
     },
     "execution_count": 83,
     "metadata": {},
     "output_type": "execute_result"
    }
   ],
   "source": [
    "# Feature Scaling\n",
    "from sklearn.preprocessing import StandardScaler\n",
    "scaler=StandardScaler()\n",
    "scaler.fit(x_train)"
   ]
  },
  {
   "cell_type": "code",
   "execution_count": 84,
   "id": "5a312f81",
   "metadata": {},
   "outputs": [
    {
     "data": {
      "text/plain": [
       "array([[-0.58767215, -1.33592712, -0.38409102, -0.3435956 , -0.2316703 ,\n",
       "        -0.0302337 ],\n",
       "       [-0.29892614, -1.33592712, -0.29818084, -0.29384626, -0.2316703 ,\n",
       "        -0.0302337 ],\n",
       "       [ 1.94916786,  0.99384846,  4.99314508,  2.7702844 , -0.2154281 ,\n",
       "        -0.0302337 ],\n",
       "       ...,\n",
       "       [ 0.49512541,  0.99384846, -0.32267579, -0.35644677, -0.20147634,\n",
       "        -0.0302337 ],\n",
       "       [ 0.38684566,  0.99384846,  0.3511866 ,  0.08219308, -0.2316703 ,\n",
       "        -0.0302337 ],\n",
       "       [ 0.83543322,  0.99384846,  1.95674307,  1.01194771, -0.17722237,\n",
       "        -0.0302337 ]])"
      ]
     },
     "execution_count": 84,
     "metadata": {},
     "output_type": "execute_result"
    }
   ],
   "source": [
    "x_train_scaler=scaler.transform(x_train)\n",
    "x_test_scaler=scaler.transform(x_test)\n",
    "x_train_scaler"
   ]
  },
  {
   "cell_type": "code",
   "execution_count": 85,
   "id": "741c33e1",
   "metadata": {},
   "outputs": [
    {
     "data": {
      "text/plain": [
       "array([[ 0.24247265, -0.55933526, -0.35188365,  1.64317262,  0.36806456,\n",
       "        -0.0302337 ],\n",
       "       [ 1.49026794, -0.55933526, -0.43213368,  0.84418402, -0.11328459,\n",
       "        -0.0302337 ],\n",
       "       [ 0.2063794 ,  0.99384846, -0.29424612, -0.35604426,  0.17460793,\n",
       "        -0.0302337 ],\n",
       "       ...,\n",
       "       [-0.77845077,  0.2172566 , -0.43240023, -0.3792716 , -0.2316703 ,\n",
       "        -0.0302337 ],\n",
       "       [-1.52094053,  0.99384846, -0.42269094, -0.3792716 ,  0.34669212,\n",
       "        -0.0302337 ],\n",
       "       [-1.3095372 ,  0.99384846, -0.39177819, -0.34804713, -0.223348  ,\n",
       "        -0.0302337 ]])"
      ]
     },
     "execution_count": 85,
     "metadata": {},
     "output_type": "execute_result"
    }
   ],
   "source": [
    "x_test_scaler"
   ]
  },
  {
   "cell_type": "code",
   "execution_count": 86,
   "id": "7ed7f698",
   "metadata": {},
   "outputs": [
    {
     "data": {
      "text/html": [
       "<style>#sk-container-id-2 {color: black;}#sk-container-id-2 pre{padding: 0;}#sk-container-id-2 div.sk-toggleable {background-color: white;}#sk-container-id-2 label.sk-toggleable__label {cursor: pointer;display: block;width: 100%;margin-bottom: 0;padding: 0.3em;box-sizing: border-box;text-align: center;}#sk-container-id-2 label.sk-toggleable__label-arrow:before {content: \"▸\";float: left;margin-right: 0.25em;color: #696969;}#sk-container-id-2 label.sk-toggleable__label-arrow:hover:before {color: black;}#sk-container-id-2 div.sk-estimator:hover label.sk-toggleable__label-arrow:before {color: black;}#sk-container-id-2 div.sk-toggleable__content {max-height: 0;max-width: 0;overflow: hidden;text-align: left;background-color: #f0f8ff;}#sk-container-id-2 div.sk-toggleable__content pre {margin: 0.2em;color: black;border-radius: 0.25em;background-color: #f0f8ff;}#sk-container-id-2 input.sk-toggleable__control:checked~div.sk-toggleable__content {max-height: 200px;max-width: 100%;overflow: auto;}#sk-container-id-2 input.sk-toggleable__control:checked~label.sk-toggleable__label-arrow:before {content: \"▾\";}#sk-container-id-2 div.sk-estimator input.sk-toggleable__control:checked~label.sk-toggleable__label {background-color: #d4ebff;}#sk-container-id-2 div.sk-label input.sk-toggleable__control:checked~label.sk-toggleable__label {background-color: #d4ebff;}#sk-container-id-2 input.sk-hidden--visually {border: 0;clip: rect(1px 1px 1px 1px);clip: rect(1px, 1px, 1px, 1px);height: 1px;margin: -1px;overflow: hidden;padding: 0;position: absolute;width: 1px;}#sk-container-id-2 div.sk-estimator {font-family: monospace;background-color: #f0f8ff;border: 1px dotted black;border-radius: 0.25em;box-sizing: border-box;margin-bottom: 0.5em;}#sk-container-id-2 div.sk-estimator:hover {background-color: #d4ebff;}#sk-container-id-2 div.sk-parallel-item::after {content: \"\";width: 100%;border-bottom: 1px solid gray;flex-grow: 1;}#sk-container-id-2 div.sk-label:hover label.sk-toggleable__label {background-color: #d4ebff;}#sk-container-id-2 div.sk-serial::before {content: \"\";position: absolute;border-left: 1px solid gray;box-sizing: border-box;top: 0;bottom: 0;left: 50%;z-index: 0;}#sk-container-id-2 div.sk-serial {display: flex;flex-direction: column;align-items: center;background-color: white;padding-right: 0.2em;padding-left: 0.2em;position: relative;}#sk-container-id-2 div.sk-item {position: relative;z-index: 1;}#sk-container-id-2 div.sk-parallel {display: flex;align-items: stretch;justify-content: center;background-color: white;position: relative;}#sk-container-id-2 div.sk-item::before, #sk-container-id-2 div.sk-parallel-item::before {content: \"\";position: absolute;border-left: 1px solid gray;box-sizing: border-box;top: 0;bottom: 0;left: 50%;z-index: -1;}#sk-container-id-2 div.sk-parallel-item {display: flex;flex-direction: column;z-index: 1;position: relative;background-color: white;}#sk-container-id-2 div.sk-parallel-item:first-child::after {align-self: flex-end;width: 50%;}#sk-container-id-2 div.sk-parallel-item:last-child::after {align-self: flex-start;width: 50%;}#sk-container-id-2 div.sk-parallel-item:only-child::after {width: 0;}#sk-container-id-2 div.sk-dashed-wrapped {border: 1px dashed gray;margin: 0 0.4em 0.5em 0.4em;box-sizing: border-box;padding-bottom: 0.4em;background-color: white;}#sk-container-id-2 div.sk-label label {font-family: monospace;font-weight: bold;display: inline-block;line-height: 1.2em;}#sk-container-id-2 div.sk-label-container {text-align: center;}#sk-container-id-2 div.sk-container {/* jupyter's `normalize.less` sets `[hidden] { display: none; }` but bootstrap.min.css set `[hidden] { display: none !important; }` so we also need the `!important` here to be able to override the default hidden behavior on the sphinx rendered scikit-learn.org. See: https://github.com/scikit-learn/scikit-learn/issues/21755 */display: inline-block !important;position: relative;}#sk-container-id-2 div.sk-text-repr-fallback {display: none;}</style><div id=\"sk-container-id-2\" class=\"sk-top-container\"><div class=\"sk-text-repr-fallback\"><pre>LogisticRegression()</pre><b>In a Jupyter environment, please rerun this cell to show the HTML representation or trust the notebook. <br />On GitHub, the HTML representation is unable to render, please try loading this page with nbviewer.org.</b></div><div class=\"sk-container\" hidden><div class=\"sk-item\"><div class=\"sk-estimator sk-toggleable\"><input class=\"sk-toggleable__control sk-hidden--visually\" id=\"sk-estimator-id-2\" type=\"checkbox\" checked><label for=\"sk-estimator-id-2\" class=\"sk-toggleable__label sk-toggleable__label-arrow\">LogisticRegression</label><div class=\"sk-toggleable__content\"><pre>LogisticRegression()</pre></div></div></div></div></div>"
      ],
      "text/plain": [
       "LogisticRegression()"
      ]
     },
     "execution_count": 86,
     "metadata": {},
     "output_type": "execute_result"
    }
   ],
   "source": [
    "# Training and evaluating model\n",
    "# Logistic Regression\n",
    "from sklearn.linear_model import LogisticRegression\n",
    "log_model=LogisticRegression()\n",
    "log_model.fit(x_train_scaler,y_train)"
   ]
  },
  {
   "cell_type": "code",
   "execution_count": 87,
   "id": "07dcde2c",
   "metadata": {},
   "outputs": [
    {
     "name": "stdout",
     "output_type": "stream",
     "text": [
      "- - - - - - - - - - -\n",
      "77.3889227023737\n",
      "- - - - - - - - - - -\n"
     ]
    }
   ],
   "source": [
    "y_pred=log_model.predict(x_test_scaler)\n",
    "# for accuracy we will check\n",
    "\n",
    "from sklearn.metrics import accuracy_score\n",
    "print(\"- - - - - - - - - - -\")\n",
    "print(accuracy_score(y_test.values,y_pred)*100)\n",
    "print(\"- - - - - - - - - - -\")"
   ]
  },
  {
   "cell_type": "code",
   "execution_count": 88,
   "id": "1ab23d45",
   "metadata": {},
   "outputs": [
    {
     "data": {
      "text/html": [
       "<style>#sk-container-id-3 {color: black;}#sk-container-id-3 pre{padding: 0;}#sk-container-id-3 div.sk-toggleable {background-color: white;}#sk-container-id-3 label.sk-toggleable__label {cursor: pointer;display: block;width: 100%;margin-bottom: 0;padding: 0.3em;box-sizing: border-box;text-align: center;}#sk-container-id-3 label.sk-toggleable__label-arrow:before {content: \"▸\";float: left;margin-right: 0.25em;color: #696969;}#sk-container-id-3 label.sk-toggleable__label-arrow:hover:before {color: black;}#sk-container-id-3 div.sk-estimator:hover label.sk-toggleable__label-arrow:before {color: black;}#sk-container-id-3 div.sk-toggleable__content {max-height: 0;max-width: 0;overflow: hidden;text-align: left;background-color: #f0f8ff;}#sk-container-id-3 div.sk-toggleable__content pre {margin: 0.2em;color: black;border-radius: 0.25em;background-color: #f0f8ff;}#sk-container-id-3 input.sk-toggleable__control:checked~div.sk-toggleable__content {max-height: 200px;max-width: 100%;overflow: auto;}#sk-container-id-3 input.sk-toggleable__control:checked~label.sk-toggleable__label-arrow:before {content: \"▾\";}#sk-container-id-3 div.sk-estimator input.sk-toggleable__control:checked~label.sk-toggleable__label {background-color: #d4ebff;}#sk-container-id-3 div.sk-label input.sk-toggleable__control:checked~label.sk-toggleable__label {background-color: #d4ebff;}#sk-container-id-3 input.sk-hidden--visually {border: 0;clip: rect(1px 1px 1px 1px);clip: rect(1px, 1px, 1px, 1px);height: 1px;margin: -1px;overflow: hidden;padding: 0;position: absolute;width: 1px;}#sk-container-id-3 div.sk-estimator {font-family: monospace;background-color: #f0f8ff;border: 1px dotted black;border-radius: 0.25em;box-sizing: border-box;margin-bottom: 0.5em;}#sk-container-id-3 div.sk-estimator:hover {background-color: #d4ebff;}#sk-container-id-3 div.sk-parallel-item::after {content: \"\";width: 100%;border-bottom: 1px solid gray;flex-grow: 1;}#sk-container-id-3 div.sk-label:hover label.sk-toggleable__label {background-color: #d4ebff;}#sk-container-id-3 div.sk-serial::before {content: \"\";position: absolute;border-left: 1px solid gray;box-sizing: border-box;top: 0;bottom: 0;left: 50%;z-index: 0;}#sk-container-id-3 div.sk-serial {display: flex;flex-direction: column;align-items: center;background-color: white;padding-right: 0.2em;padding-left: 0.2em;position: relative;}#sk-container-id-3 div.sk-item {position: relative;z-index: 1;}#sk-container-id-3 div.sk-parallel {display: flex;align-items: stretch;justify-content: center;background-color: white;position: relative;}#sk-container-id-3 div.sk-item::before, #sk-container-id-3 div.sk-parallel-item::before {content: \"\";position: absolute;border-left: 1px solid gray;box-sizing: border-box;top: 0;bottom: 0;left: 50%;z-index: -1;}#sk-container-id-3 div.sk-parallel-item {display: flex;flex-direction: column;z-index: 1;position: relative;background-color: white;}#sk-container-id-3 div.sk-parallel-item:first-child::after {align-self: flex-end;width: 50%;}#sk-container-id-3 div.sk-parallel-item:last-child::after {align-self: flex-start;width: 50%;}#sk-container-id-3 div.sk-parallel-item:only-child::after {width: 0;}#sk-container-id-3 div.sk-dashed-wrapped {border: 1px dashed gray;margin: 0 0.4em 0.5em 0.4em;box-sizing: border-box;padding-bottom: 0.4em;background-color: white;}#sk-container-id-3 div.sk-label label {font-family: monospace;font-weight: bold;display: inline-block;line-height: 1.2em;}#sk-container-id-3 div.sk-label-container {text-align: center;}#sk-container-id-3 div.sk-container {/* jupyter's `normalize.less` sets `[hidden] { display: none; }` but bootstrap.min.css set `[hidden] { display: none !important; }` so we also need the `!important` here to be able to override the default hidden behavior on the sphinx rendered scikit-learn.org. See: https://github.com/scikit-learn/scikit-learn/issues/21755 */display: inline-block !important;position: relative;}#sk-container-id-3 div.sk-text-repr-fallback {display: none;}</style><div id=\"sk-container-id-3\" class=\"sk-top-container\"><div class=\"sk-text-repr-fallback\"><pre>RandomForestClassifier()</pre><b>In a Jupyter environment, please rerun this cell to show the HTML representation or trust the notebook. <br />On GitHub, the HTML representation is unable to render, please try loading this page with nbviewer.org.</b></div><div class=\"sk-container\" hidden><div class=\"sk-item\"><div class=\"sk-estimator sk-toggleable\"><input class=\"sk-toggleable__control sk-hidden--visually\" id=\"sk-estimator-id-3\" type=\"checkbox\" checked><label for=\"sk-estimator-id-3\" class=\"sk-toggleable__label sk-toggleable__label-arrow\">RandomForestClassifier</label><div class=\"sk-toggleable__content\"><pre>RandomForestClassifier()</pre></div></div></div></div></div>"
      ],
      "text/plain": [
       "RandomForestClassifier()"
      ]
     },
     "execution_count": 88,
     "metadata": {},
     "output_type": "execute_result"
    }
   ],
   "source": [
    "# Random Forest Classifier\n",
    "from sklearn.ensemble import RandomForestClassifier\n",
    "rand_model=RandomForestClassifier()\n",
    "rand_model.fit(x_train_scaler,y_train)"
   ]
  },
  {
   "cell_type": "code",
   "execution_count": 89,
   "id": "096e6863",
   "metadata": {},
   "outputs": [
    {
     "name": "stdout",
     "output_type": "stream",
     "text": [
      "- - - - - - - - - - -\n",
      "97.93061472915399\n",
      "- - - - - - - - - - -\n"
     ]
    }
   ],
   "source": [
    "y_pred=rand_model.predict(x_test_scaler)\n",
    "print(\"- - - - - - - - - - -\")\n",
    "print(accuracy_score(y_test.values,y_pred)*100)\n",
    "print(\"- - - - - - - - - - -\")"
   ]
  },
  {
   "cell_type": "code",
   "execution_count": 90,
   "id": "73706a63",
   "metadata": {},
   "outputs": [
    {
     "data": {
      "text/html": [
       "<style>#sk-container-id-4 {color: black;}#sk-container-id-4 pre{padding: 0;}#sk-container-id-4 div.sk-toggleable {background-color: white;}#sk-container-id-4 label.sk-toggleable__label {cursor: pointer;display: block;width: 100%;margin-bottom: 0;padding: 0.3em;box-sizing: border-box;text-align: center;}#sk-container-id-4 label.sk-toggleable__label-arrow:before {content: \"▸\";float: left;margin-right: 0.25em;color: #696969;}#sk-container-id-4 label.sk-toggleable__label-arrow:hover:before {color: black;}#sk-container-id-4 div.sk-estimator:hover label.sk-toggleable__label-arrow:before {color: black;}#sk-container-id-4 div.sk-toggleable__content {max-height: 0;max-width: 0;overflow: hidden;text-align: left;background-color: #f0f8ff;}#sk-container-id-4 div.sk-toggleable__content pre {margin: 0.2em;color: black;border-radius: 0.25em;background-color: #f0f8ff;}#sk-container-id-4 input.sk-toggleable__control:checked~div.sk-toggleable__content {max-height: 200px;max-width: 100%;overflow: auto;}#sk-container-id-4 input.sk-toggleable__control:checked~label.sk-toggleable__label-arrow:before {content: \"▾\";}#sk-container-id-4 div.sk-estimator input.sk-toggleable__control:checked~label.sk-toggleable__label {background-color: #d4ebff;}#sk-container-id-4 div.sk-label input.sk-toggleable__control:checked~label.sk-toggleable__label {background-color: #d4ebff;}#sk-container-id-4 input.sk-hidden--visually {border: 0;clip: rect(1px 1px 1px 1px);clip: rect(1px, 1px, 1px, 1px);height: 1px;margin: -1px;overflow: hidden;padding: 0;position: absolute;width: 1px;}#sk-container-id-4 div.sk-estimator {font-family: monospace;background-color: #f0f8ff;border: 1px dotted black;border-radius: 0.25em;box-sizing: border-box;margin-bottom: 0.5em;}#sk-container-id-4 div.sk-estimator:hover {background-color: #d4ebff;}#sk-container-id-4 div.sk-parallel-item::after {content: \"\";width: 100%;border-bottom: 1px solid gray;flex-grow: 1;}#sk-container-id-4 div.sk-label:hover label.sk-toggleable__label {background-color: #d4ebff;}#sk-container-id-4 div.sk-serial::before {content: \"\";position: absolute;border-left: 1px solid gray;box-sizing: border-box;top: 0;bottom: 0;left: 50%;z-index: 0;}#sk-container-id-4 div.sk-serial {display: flex;flex-direction: column;align-items: center;background-color: white;padding-right: 0.2em;padding-left: 0.2em;position: relative;}#sk-container-id-4 div.sk-item {position: relative;z-index: 1;}#sk-container-id-4 div.sk-parallel {display: flex;align-items: stretch;justify-content: center;background-color: white;position: relative;}#sk-container-id-4 div.sk-item::before, #sk-container-id-4 div.sk-parallel-item::before {content: \"\";position: absolute;border-left: 1px solid gray;box-sizing: border-box;top: 0;bottom: 0;left: 50%;z-index: -1;}#sk-container-id-4 div.sk-parallel-item {display: flex;flex-direction: column;z-index: 1;position: relative;background-color: white;}#sk-container-id-4 div.sk-parallel-item:first-child::after {align-self: flex-end;width: 50%;}#sk-container-id-4 div.sk-parallel-item:last-child::after {align-self: flex-start;width: 50%;}#sk-container-id-4 div.sk-parallel-item:only-child::after {width: 0;}#sk-container-id-4 div.sk-dashed-wrapped {border: 1px dashed gray;margin: 0 0.4em 0.5em 0.4em;box-sizing: border-box;padding-bottom: 0.4em;background-color: white;}#sk-container-id-4 div.sk-label label {font-family: monospace;font-weight: bold;display: inline-block;line-height: 1.2em;}#sk-container-id-4 div.sk-label-container {text-align: center;}#sk-container-id-4 div.sk-container {/* jupyter's `normalize.less` sets `[hidden] { display: none; }` but bootstrap.min.css set `[hidden] { display: none !important; }` so we also need the `!important` here to be able to override the default hidden behavior on the sphinx rendered scikit-learn.org. See: https://github.com/scikit-learn/scikit-learn/issues/21755 */display: inline-block !important;position: relative;}#sk-container-id-4 div.sk-text-repr-fallback {display: none;}</style><div id=\"sk-container-id-4\" class=\"sk-top-container\"><div class=\"sk-text-repr-fallback\"><pre>SVC()</pre><b>In a Jupyter environment, please rerun this cell to show the HTML representation or trust the notebook. <br />On GitHub, the HTML representation is unable to render, please try loading this page with nbviewer.org.</b></div><div class=\"sk-container\" hidden><div class=\"sk-item\"><div class=\"sk-estimator sk-toggleable\"><input class=\"sk-toggleable__control sk-hidden--visually\" id=\"sk-estimator-id-4\" type=\"checkbox\" checked><label for=\"sk-estimator-id-4\" class=\"sk-toggleable__label sk-toggleable__label-arrow\">SVC</label><div class=\"sk-toggleable__content\"><pre>SVC()</pre></div></div></div></div></div>"
      ],
      "text/plain": [
       "SVC()"
      ]
     },
     "execution_count": 90,
     "metadata": {},
     "output_type": "execute_result"
    }
   ],
   "source": [
    "# Support Vector Machine(SVM)\n",
    "from sklearn.svm import SVC\n",
    "svm_model=SVC()\n",
    "svm_model.fit(x_train_scaler,y_train)"
   ]
  },
  {
   "cell_type": "code",
   "execution_count": 91,
   "id": "da5cb728",
   "metadata": {},
   "outputs": [
    {
     "name": "stdout",
     "output_type": "stream",
     "text": [
      "- - - - - - - - - - -\n",
      "88.74010955569081\n",
      "- - - - - - - - - - -\n"
     ]
    }
   ],
   "source": [
    "y_pred=svm_model.predict(x_test_scaler)\n",
    "print(\"- - - - - - - - - - -\")\n",
    "print(accuracy_score(y_test.values,y_pred)*100)\n",
    "print(\"- - - - - - - - - - -\")"
   ]
  },
  {
   "cell_type": "code",
   "execution_count": 92,
   "id": "787053cf",
   "metadata": {},
   "outputs": [
    {
     "data": {
      "text/html": [
       "<style>#sk-container-id-5 {color: black;}#sk-container-id-5 pre{padding: 0;}#sk-container-id-5 div.sk-toggleable {background-color: white;}#sk-container-id-5 label.sk-toggleable__label {cursor: pointer;display: block;width: 100%;margin-bottom: 0;padding: 0.3em;box-sizing: border-box;text-align: center;}#sk-container-id-5 label.sk-toggleable__label-arrow:before {content: \"▸\";float: left;margin-right: 0.25em;color: #696969;}#sk-container-id-5 label.sk-toggleable__label-arrow:hover:before {color: black;}#sk-container-id-5 div.sk-estimator:hover label.sk-toggleable__label-arrow:before {color: black;}#sk-container-id-5 div.sk-toggleable__content {max-height: 0;max-width: 0;overflow: hidden;text-align: left;background-color: #f0f8ff;}#sk-container-id-5 div.sk-toggleable__content pre {margin: 0.2em;color: black;border-radius: 0.25em;background-color: #f0f8ff;}#sk-container-id-5 input.sk-toggleable__control:checked~div.sk-toggleable__content {max-height: 200px;max-width: 100%;overflow: auto;}#sk-container-id-5 input.sk-toggleable__control:checked~label.sk-toggleable__label-arrow:before {content: \"▾\";}#sk-container-id-5 div.sk-estimator input.sk-toggleable__control:checked~label.sk-toggleable__label {background-color: #d4ebff;}#sk-container-id-5 div.sk-label input.sk-toggleable__control:checked~label.sk-toggleable__label {background-color: #d4ebff;}#sk-container-id-5 input.sk-hidden--visually {border: 0;clip: rect(1px 1px 1px 1px);clip: rect(1px, 1px, 1px, 1px);height: 1px;margin: -1px;overflow: hidden;padding: 0;position: absolute;width: 1px;}#sk-container-id-5 div.sk-estimator {font-family: monospace;background-color: #f0f8ff;border: 1px dotted black;border-radius: 0.25em;box-sizing: border-box;margin-bottom: 0.5em;}#sk-container-id-5 div.sk-estimator:hover {background-color: #d4ebff;}#sk-container-id-5 div.sk-parallel-item::after {content: \"\";width: 100%;border-bottom: 1px solid gray;flex-grow: 1;}#sk-container-id-5 div.sk-label:hover label.sk-toggleable__label {background-color: #d4ebff;}#sk-container-id-5 div.sk-serial::before {content: \"\";position: absolute;border-left: 1px solid gray;box-sizing: border-box;top: 0;bottom: 0;left: 50%;z-index: 0;}#sk-container-id-5 div.sk-serial {display: flex;flex-direction: column;align-items: center;background-color: white;padding-right: 0.2em;padding-left: 0.2em;position: relative;}#sk-container-id-5 div.sk-item {position: relative;z-index: 1;}#sk-container-id-5 div.sk-parallel {display: flex;align-items: stretch;justify-content: center;background-color: white;position: relative;}#sk-container-id-5 div.sk-item::before, #sk-container-id-5 div.sk-parallel-item::before {content: \"\";position: absolute;border-left: 1px solid gray;box-sizing: border-box;top: 0;bottom: 0;left: 50%;z-index: -1;}#sk-container-id-5 div.sk-parallel-item {display: flex;flex-direction: column;z-index: 1;position: relative;background-color: white;}#sk-container-id-5 div.sk-parallel-item:first-child::after {align-self: flex-end;width: 50%;}#sk-container-id-5 div.sk-parallel-item:last-child::after {align-self: flex-start;width: 50%;}#sk-container-id-5 div.sk-parallel-item:only-child::after {width: 0;}#sk-container-id-5 div.sk-dashed-wrapped {border: 1px dashed gray;margin: 0 0.4em 0.5em 0.4em;box-sizing: border-box;padding-bottom: 0.4em;background-color: white;}#sk-container-id-5 div.sk-label label {font-family: monospace;font-weight: bold;display: inline-block;line-height: 1.2em;}#sk-container-id-5 div.sk-label-container {text-align: center;}#sk-container-id-5 div.sk-container {/* jupyter's `normalize.less` sets `[hidden] { display: none; }` but bootstrap.min.css set `[hidden] { display: none !important; }` so we also need the `!important` here to be able to override the default hidden behavior on the sphinx rendered scikit-learn.org. See: https://github.com/scikit-learn/scikit-learn/issues/21755 */display: inline-block !important;position: relative;}#sk-container-id-5 div.sk-text-repr-fallback {display: none;}</style><div id=\"sk-container-id-5\" class=\"sk-top-container\"><div class=\"sk-text-repr-fallback\"><pre>BernoulliNB()</pre><b>In a Jupyter environment, please rerun this cell to show the HTML representation or trust the notebook. <br />On GitHub, the HTML representation is unable to render, please try loading this page with nbviewer.org.</b></div><div class=\"sk-container\" hidden><div class=\"sk-item\"><div class=\"sk-estimator sk-toggleable\"><input class=\"sk-toggleable__control sk-hidden--visually\" id=\"sk-estimator-id-5\" type=\"checkbox\" checked><label for=\"sk-estimator-id-5\" class=\"sk-toggleable__label sk-toggleable__label-arrow\">BernoulliNB</label><div class=\"sk-toggleable__content\"><pre>BernoulliNB()</pre></div></div></div></div></div>"
      ],
      "text/plain": [
       "BernoulliNB()"
      ]
     },
     "execution_count": 92,
     "metadata": {},
     "output_type": "execute_result"
    }
   ],
   "source": [
    "# BernoulliNB\n",
    "from sklearn.naive_bayes import BernoulliNB\n",
    "bnb_model=BernoulliNB()\n",
    "bnb_model.fit(x_train_scaler,y_train)"
   ]
  },
  {
   "cell_type": "code",
   "execution_count": 93,
   "id": "b92a95ab",
   "metadata": {},
   "outputs": [
    {
     "name": "stdout",
     "output_type": "stream",
     "text": [
      "- - - - - - - - - - -\n",
      "69.20267802799756\n",
      "- - - - - - - - - - -\n"
     ]
    }
   ],
   "source": [
    "y_pred=bnb_model.predict(x_test_scaler)\n",
    "print(\"- - - - - - - - - - -\")\n",
    "print(accuracy_score(y_test.values,y_pred)*100)\n",
    "print(\"- - - - - - - - - - -\")"
   ]
  },
  {
   "cell_type": "code",
   "execution_count": 94,
   "id": "d53c4703",
   "metadata": {},
   "outputs": [
    {
     "data": {
      "text/html": [
       "<style>#sk-container-id-6 {color: black;}#sk-container-id-6 pre{padding: 0;}#sk-container-id-6 div.sk-toggleable {background-color: white;}#sk-container-id-6 label.sk-toggleable__label {cursor: pointer;display: block;width: 100%;margin-bottom: 0;padding: 0.3em;box-sizing: border-box;text-align: center;}#sk-container-id-6 label.sk-toggleable__label-arrow:before {content: \"▸\";float: left;margin-right: 0.25em;color: #696969;}#sk-container-id-6 label.sk-toggleable__label-arrow:hover:before {color: black;}#sk-container-id-6 div.sk-estimator:hover label.sk-toggleable__label-arrow:before {color: black;}#sk-container-id-6 div.sk-toggleable__content {max-height: 0;max-width: 0;overflow: hidden;text-align: left;background-color: #f0f8ff;}#sk-container-id-6 div.sk-toggleable__content pre {margin: 0.2em;color: black;border-radius: 0.25em;background-color: #f0f8ff;}#sk-container-id-6 input.sk-toggleable__control:checked~div.sk-toggleable__content {max-height: 200px;max-width: 100%;overflow: auto;}#sk-container-id-6 input.sk-toggleable__control:checked~label.sk-toggleable__label-arrow:before {content: \"▾\";}#sk-container-id-6 div.sk-estimator input.sk-toggleable__control:checked~label.sk-toggleable__label {background-color: #d4ebff;}#sk-container-id-6 div.sk-label input.sk-toggleable__control:checked~label.sk-toggleable__label {background-color: #d4ebff;}#sk-container-id-6 input.sk-hidden--visually {border: 0;clip: rect(1px 1px 1px 1px);clip: rect(1px, 1px, 1px, 1px);height: 1px;margin: -1px;overflow: hidden;padding: 0;position: absolute;width: 1px;}#sk-container-id-6 div.sk-estimator {font-family: monospace;background-color: #f0f8ff;border: 1px dotted black;border-radius: 0.25em;box-sizing: border-box;margin-bottom: 0.5em;}#sk-container-id-6 div.sk-estimator:hover {background-color: #d4ebff;}#sk-container-id-6 div.sk-parallel-item::after {content: \"\";width: 100%;border-bottom: 1px solid gray;flex-grow: 1;}#sk-container-id-6 div.sk-label:hover label.sk-toggleable__label {background-color: #d4ebff;}#sk-container-id-6 div.sk-serial::before {content: \"\";position: absolute;border-left: 1px solid gray;box-sizing: border-box;top: 0;bottom: 0;left: 50%;z-index: 0;}#sk-container-id-6 div.sk-serial {display: flex;flex-direction: column;align-items: center;background-color: white;padding-right: 0.2em;padding-left: 0.2em;position: relative;}#sk-container-id-6 div.sk-item {position: relative;z-index: 1;}#sk-container-id-6 div.sk-parallel {display: flex;align-items: stretch;justify-content: center;background-color: white;position: relative;}#sk-container-id-6 div.sk-item::before, #sk-container-id-6 div.sk-parallel-item::before {content: \"\";position: absolute;border-left: 1px solid gray;box-sizing: border-box;top: 0;bottom: 0;left: 50%;z-index: -1;}#sk-container-id-6 div.sk-parallel-item {display: flex;flex-direction: column;z-index: 1;position: relative;background-color: white;}#sk-container-id-6 div.sk-parallel-item:first-child::after {align-self: flex-end;width: 50%;}#sk-container-id-6 div.sk-parallel-item:last-child::after {align-self: flex-start;width: 50%;}#sk-container-id-6 div.sk-parallel-item:only-child::after {width: 0;}#sk-container-id-6 div.sk-dashed-wrapped {border: 1px dashed gray;margin: 0 0.4em 0.5em 0.4em;box-sizing: border-box;padding-bottom: 0.4em;background-color: white;}#sk-container-id-6 div.sk-label label {font-family: monospace;font-weight: bold;display: inline-block;line-height: 1.2em;}#sk-container-id-6 div.sk-label-container {text-align: center;}#sk-container-id-6 div.sk-container {/* jupyter's `normalize.less` sets `[hidden] { display: none; }` but bootstrap.min.css set `[hidden] { display: none !important; }` so we also need the `!important` here to be able to override the default hidden behavior on the sphinx rendered scikit-learn.org. See: https://github.com/scikit-learn/scikit-learn/issues/21755 */display: inline-block !important;position: relative;}#sk-container-id-6 div.sk-text-repr-fallback {display: none;}</style><div id=\"sk-container-id-6\" class=\"sk-top-container\"><div class=\"sk-text-repr-fallback\"><pre>GaussianNB()</pre><b>In a Jupyter environment, please rerun this cell to show the HTML representation or trust the notebook. <br />On GitHub, the HTML representation is unable to render, please try loading this page with nbviewer.org.</b></div><div class=\"sk-container\" hidden><div class=\"sk-item\"><div class=\"sk-estimator sk-toggleable\"><input class=\"sk-toggleable__control sk-hidden--visually\" id=\"sk-estimator-id-6\" type=\"checkbox\" checked><label for=\"sk-estimator-id-6\" class=\"sk-toggleable__label sk-toggleable__label-arrow\">GaussianNB</label><div class=\"sk-toggleable__content\"><pre>GaussianNB()</pre></div></div></div></div></div>"
      ],
      "text/plain": [
       "GaussianNB()"
      ]
     },
     "execution_count": 94,
     "metadata": {},
     "output_type": "execute_result"
    }
   ],
   "source": [
    "# GaussianNB\n",
    "from sklearn.naive_bayes import GaussianNB\n",
    "gnb_model=GaussianNB()\n",
    "gnb_model.fit(x_train_scaler,y_train)"
   ]
  },
  {
   "cell_type": "code",
   "execution_count": 95,
   "id": "bb04c305",
   "metadata": {},
   "outputs": [
    {
     "name": "stdout",
     "output_type": "stream",
     "text": [
      "- - - - - - - - - - -\n",
      "58.642726719415705\n",
      "- - - - - - - - - - -\n"
     ]
    }
   ],
   "source": [
    "y_pred=gnb_model.predict(x_test_scaler)\n",
    "print(\"- - - - - - - - - - -\")\n",
    "print(accuracy_score(y_test.values,y_pred)*100)\n",
    "print(\"- - - - - - - - - - -\")"
   ]
  },
  {
   "cell_type": "code",
   "execution_count": 96,
   "id": "0132642e",
   "metadata": {},
   "outputs": [],
   "source": [
    "# Conclusion:- Random Forest Classifier Selected, because it has the best accuracy."
   ]
  },
  {
   "cell_type": "code",
   "execution_count": 97,
   "id": "47834f9a",
   "metadata": {},
   "outputs": [],
   "source": [
    "import pickle"
   ]
  },
  {
   "cell_type": "code",
   "execution_count": 98,
   "id": "76fcc036",
   "metadata": {},
   "outputs": [],
   "source": [
    "pickle.dump(rand_model,open('model.sav','wb'))"
   ]
  },
  {
   "cell_type": "code",
   "execution_count": 99,
   "id": "90bb1038",
   "metadata": {},
   "outputs": [],
   "source": [
    "rand_model=pickle.load(open('model.sav','rb'))"
   ]
  },
  {
   "cell_type": "code",
   "execution_count": 101,
   "id": "bd788a7d",
   "metadata": {},
   "outputs": [],
   "source": [
    "pickle.dump(scaler,open('scaler.sav','wb'))"
   ]
  },
  {
   "cell_type": "code",
   "execution_count": 102,
   "id": "67aa87d4",
   "metadata": {},
   "outputs": [],
   "source": [
    "rand_model=pickle.load(open('model.sav','rb'))"
   ]
  },
  {
   "cell_type": "code",
   "execution_count": 103,
   "id": "177d696a",
   "metadata": {},
   "outputs": [],
   "source": [
    "new_scaler=pickle.load(open('scaler.sav','rb'))"
   ]
  },
  {
   "cell_type": "code",
   "execution_count": 104,
   "id": "210eef76",
   "metadata": {},
   "outputs": [
    {
     "data": {
      "text/html": [
       "<div>\n",
       "<style scoped>\n",
       "    .dataframe tbody tr th:only-of-type {\n",
       "        vertical-align: middle;\n",
       "    }\n",
       "\n",
       "    .dataframe tbody tr th {\n",
       "        vertical-align: top;\n",
       "    }\n",
       "\n",
       "    .dataframe thead th {\n",
       "        text-align: right;\n",
       "    }\n",
       "</style>\n",
       "<table border=\"1\" class=\"dataframe\">\n",
       "  <thead>\n",
       "    <tr style=\"text-align: right;\">\n",
       "      <th></th>\n",
       "      <th>step</th>\n",
       "      <th>type</th>\n",
       "      <th>amount</th>\n",
       "      <th>oldbalanceOrg</th>\n",
       "      <th>oldbalanceDest</th>\n",
       "      <th>isFraud</th>\n",
       "      <th>isFlaggedFraud</th>\n",
       "    </tr>\n",
       "  </thead>\n",
       "  <tbody>\n",
       "    <tr>\n",
       "      <th>472918</th>\n",
       "      <td>19</td>\n",
       "      <td>5</td>\n",
       "      <td>231577.7400</td>\n",
       "      <td>7080.0000</td>\n",
       "      <td>998943.8700</td>\n",
       "      <td>0</td>\n",
       "      <td>0</td>\n",
       "    </tr>\n",
       "    <tr>\n",
       "      <th>6105819</th>\n",
       "      <td>525</td>\n",
       "      <td>5</td>\n",
       "      <td>17189.3700</td>\n",
       "      <td>0.0000</td>\n",
       "      <td>1108449.4700</td>\n",
       "      <td>0</td>\n",
       "      <td>0</td>\n",
       "    </tr>\n",
       "    <tr>\n",
       "      <th>165381</th>\n",
       "      <td>12</td>\n",
       "      <td>4</td>\n",
       "      <td>7410.7200</td>\n",
       "      <td>0.0000</td>\n",
       "      <td>0.0000</td>\n",
       "      <td>0</td>\n",
       "      <td>0</td>\n",
       "    </tr>\n",
       "    <tr>\n",
       "      <th>4814916</th>\n",
       "      <td>346</td>\n",
       "      <td>5</td>\n",
       "      <td>118046.3900</td>\n",
       "      <td>70420.0000</td>\n",
       "      <td>89633.8600</td>\n",
       "      <td>0</td>\n",
       "      <td>0</td>\n",
       "    </tr>\n",
       "    <tr>\n",
       "      <th>2185320</th>\n",
       "      <td>185</td>\n",
       "      <td>4</td>\n",
       "      <td>7171.3100</td>\n",
       "      <td>13983.0000</td>\n",
       "      <td>0.0000</td>\n",
       "      <td>0</td>\n",
       "      <td>0</td>\n",
       "    </tr>\n",
       "  </tbody>\n",
       "</table>\n",
       "</div>"
      ],
      "text/plain": [
       "         step  type      amount  oldbalanceOrg  oldbalanceDest  isFraud  \\\n",
       "472918     19     5 231577.7400      7080.0000     998943.8700        0   \n",
       "6105819   525     5  17189.3700         0.0000    1108449.4700        0   \n",
       "165381     12     4   7410.7200         0.0000          0.0000        0   \n",
       "4814916   346     5 118046.3900     70420.0000      89633.8600        0   \n",
       "2185320   185     4   7171.3100     13983.0000          0.0000        0   \n",
       "\n",
       "         isFlaggedFraud  \n",
       "472918                0  \n",
       "6105819               0  \n",
       "165381                0  \n",
       "4814916               0  \n",
       "2185320               0  "
      ]
     },
     "execution_count": 104,
     "metadata": {},
     "output_type": "execute_result"
    }
   ],
   "source": [
    "new_df.head()"
   ]
  },
  {
   "cell_type": "code",
   "execution_count": 105,
   "id": "050aa227",
   "metadata": {},
   "outputs": [
    {
     "data": {
      "text/plain": [
       "array([[2.2800000e+02, 5.0000000e+00, 1.1756311e+05, 0.0000000e+00,\n",
       "        2.0890841e+05, 0.0000000e+00]])"
      ]
     },
     "execution_count": 105,
     "metadata": {},
     "output_type": "execute_result"
    }
   ],
   "source": [
    "input_array=np.array([[228,5,117563.1100,0.0000,208908.4100,0]])\n",
    "input_array"
   ]
  },
  {
   "cell_type": "code",
   "execution_count": 106,
   "id": "a8d68b08",
   "metadata": {},
   "outputs": [
    {
     "name": "stderr",
     "output_type": "stream",
     "text": [
      "c:\\Users\\user\\AppData\\Local\\Programs\\Python\\Python312\\Lib\\site-packages\\sklearn\\base.py:465: UserWarning: X does not have valid feature names, but StandardScaler was fitted with feature names\n",
      "  warnings.warn(\n"
     ]
    },
    {
     "data": {
      "text/plain": [
       "array([[-0.40720589,  0.99384846, -0.38175775, -0.3792716 , -0.17123212,\n",
       "        -0.0302337 ]])"
      ]
     },
     "execution_count": 106,
     "metadata": {},
     "output_type": "execute_result"
    }
   ],
   "source": [
    "input_array_scale=new_scaler.transform(input_array)\n",
    "input_array_scale"
   ]
  },
  {
   "cell_type": "code",
   "execution_count": 107,
   "id": "03b59503",
   "metadata": {},
   "outputs": [
    {
     "data": {
      "text/plain": [
       "array([0], dtype=int64)"
      ]
     },
     "execution_count": 107,
     "metadata": {},
     "output_type": "execute_result"
    }
   ],
   "source": [
    "pred=rand_model.predict(input_array_scale)\n",
    "pred"
   ]
  }
 ],
 "metadata": {
  "kernelspec": {
   "display_name": "Python 3 (ipykernel)",
   "language": "python",
   "name": "python3"
  },
  "language_info": {
   "codemirror_mode": {
    "name": "ipython",
    "version": 3
   },
   "file_extension": ".py",
   "mimetype": "text/x-python",
   "name": "python",
   "nbconvert_exporter": "python",
   "pygments_lexer": "ipython3",
   "version": "3.12.1"
  }
 },
 "nbformat": 4,
 "nbformat_minor": 5
}
